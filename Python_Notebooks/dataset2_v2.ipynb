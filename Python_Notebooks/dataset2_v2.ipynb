{
  "cells": [
    {
      "cell_type": "markdown",
      "metadata": {
        "id": "I0nFBex7EUrw"
      },
      "source": [
        "## Improving Water Consumption Management in Barcelona through Data Quality Enhancement and Prediction Models\n",
        "#### **TFG 2023-2024**\n",
        "#### **Author: Edith Ruiz Macià**"
      ]
    },
    {
      "cell_type": "markdown",
      "metadata": {
        "id": "NnTWv_jjGkeU"
      },
      "source": [
        "### Analysis of dataset Dataset2_v2.csv"
      ]
    },
    {
      "cell_type": "markdown",
      "metadata": {
        "id": "dsY0SD9lDLqy"
      },
      "source": [
        "#### **About the Notebook**\n",
        "\n",
        "The aim of this notebook (.ipynb) is to analyze and modify the dataset dataset2_v2.csv provided by Aigües de Barcelona in order to improve the quality of the data and learn its insights through its visualization.\n",
        "\n",
        "The code is structured in different levels.\n",
        "\n",
        "1. Given the database, we start with an Exploratory Data Analysis that will provide us a general knowledge of how the raw data looks like.\n",
        "2. Then, an intensive data cleaning will be applied which will transform the data and handle null, negative, and outlier values.\n",
        "3. We will enhance the data by adding columns that will add up to the understanding of the data and also, by combining outside data that might be relevant to ours.\n",
        "4. In order to have a complete dataset we will make a projection of absent or incorrect values previously detected in section 2. To do so, we will test several algorithms and see with which one we obtain better results.\n",
        "5. Anomalies that were previously discarded and substituted by projected values with our predictive model must also be taken into account and analyzed. That is why we will classify and visualize them.\n",
        "\n",
        "Finally, the updated resulting database can be downloaded in order to be used in other programs or other purposes of the user."
      ]
    },
    {
      "cell_type": "markdown",
      "metadata": {
        "id": "tRaef4mtFFaJ"
      },
      "source": [
        "#### ***Execution time***\n",
        "bla bla bla\n",
        "\n",
        "#### ***How to execute the code***\n",
        "This is a Python Notebook, so the code should be run either cell by cell or by running all the notebook at once. At the beginning, review and make sure the paths to all datasets are correct for your folders' distribution in order for everything to run smoothly.\n",
        "\n",
        "#### ***Libraries and packages used in the project***\n",
        "bla bla bla"
      ]
    },
    {
      "cell_type": "code",
      "execution_count": 26,
      "metadata": {
        "colab": {
          "base_uri": "https://localhost:8080/"
        },
        "id": "76R27y7VKPwx",
        "outputId": "807ddb30-2996-416b-97f8-ff7d325802ce"
      },
      "outputs": [],
      "source": [
        "# In case you are working in google colab you can mount your google drive account here\n",
        "# from google.colab import drive\n",
        "# drive.mount('/content/drive')"
      ]
    },
    {
      "cell_type": "markdown",
      "metadata": {
        "id": "KhTE7LznKKpe"
      },
      "source": [
        "## 0. Importing datasets and libraries"
      ]
    },
    {
      "cell_type": "code",
      "execution_count": 27,
      "metadata": {
        "id": "2CMqlOYoHs57"
      },
      "outputs": [],
      "source": [
        "# Import the necessary libraries\n",
        "import pandas as pd\n",
        "import matplotlib.pyplot as plt\n",
        "import matplotlib.dates as mdates\n",
        "import numpy as np\n",
        "import seaborn as sns\n",
        "from sklearn.preprocessing import LabelEncoder\n",
        "from sklearn.model_selection import train_test_split\n",
        "from sklearn.metrics import mean_squared_error, mean_absolute_error, r2_score\n",
        "from sklearn.linear_model import LinearRegression\n",
        "from sklearn.ensemble import RandomForestRegressor\n",
        "import xgboost as xgb\n",
        "from sklearn.neighbors import KNeighborsRegressor\n",
        "from sklearn.svm import SVR"
      ]
    },
    {
      "cell_type": "code",
      "execution_count": 28,
      "metadata": {
        "colab": {
          "base_uri": "https://localhost:8080/",
          "height": 206
        },
        "id": "VBO5XytnKwJu",
        "outputId": "8868ab25-a447-42cd-c2ae-6828a62f4351"
      },
      "outputs": [
        {
          "data": {
            "text/html": [
              "<div>\n",
              "<style scoped>\n",
              "    .dataframe tbody tr th:only-of-type {\n",
              "        vertical-align: middle;\n",
              "    }\n",
              "\n",
              "    .dataframe tbody tr th {\n",
              "        vertical-align: top;\n",
              "    }\n",
              "\n",
              "    .dataframe thead th {\n",
              "        text-align: right;\n",
              "    }\n",
              "</style>\n",
              "<table border=\"1\" class=\"dataframe\">\n",
              "  <thead>\n",
              "    <tr style=\"text-align: right;\">\n",
              "      <th></th>\n",
              "      <th>ID</th>\n",
              "      <th>Diàmetre (mm)/Diámetro (mm)/Diameter (mm)</th>\n",
              "      <th>Ús/Uso/Use</th>\n",
              "      <th>Tipus d'activitat econòmica/Tipo de actividad económica/Type of economic activity</th>\n",
              "      <th>Data/Fecha/Date</th>\n",
              "      <th>Hora/Hora/Time</th>\n",
              "      <th>Consum (L/h)/Consumo (L/h)/Consumption (L/h)</th>\n",
              "    </tr>\n",
              "  </thead>\n",
              "  <tbody>\n",
              "    <tr>\n",
              "      <th>0</th>\n",
              "      <td>d6820111d10fcde14bf3fb393cc188d5c684b073797453...</td>\n",
              "      <td>15</td>\n",
              "      <td>Domèstic/Doméstico/Domestic</td>\n",
              "      <td>&lt;NULL&gt;/ &lt;NULL&gt;/ &lt;NULL&gt;</td>\n",
              "      <td>2022-01-22</td>\n",
              "      <td>01:16:35</td>\n",
              "      <td>0.0</td>\n",
              "    </tr>\n",
              "    <tr>\n",
              "      <th>1</th>\n",
              "      <td>d6820111d10fcde14bf3fb393cc188d5c684b073797453...</td>\n",
              "      <td>15</td>\n",
              "      <td>Domèstic/Doméstico/Domestic</td>\n",
              "      <td>&lt;NULL&gt;/ &lt;NULL&gt;/ &lt;NULL&gt;</td>\n",
              "      <td>2022-01-22</td>\n",
              "      <td>02:16:35</td>\n",
              "      <td>0.0</td>\n",
              "    </tr>\n",
              "    <tr>\n",
              "      <th>2</th>\n",
              "      <td>d6820111d10fcde14bf3fb393cc188d5c684b073797453...</td>\n",
              "      <td>15</td>\n",
              "      <td>Domèstic/Doméstico/Domestic</td>\n",
              "      <td>&lt;NULL&gt;/ &lt;NULL&gt;/ &lt;NULL&gt;</td>\n",
              "      <td>2022-01-22</td>\n",
              "      <td>03:16:35</td>\n",
              "      <td>0.0</td>\n",
              "    </tr>\n",
              "    <tr>\n",
              "      <th>3</th>\n",
              "      <td>d6820111d10fcde14bf3fb393cc188d5c684b073797453...</td>\n",
              "      <td>15</td>\n",
              "      <td>Domèstic/Doméstico/Domestic</td>\n",
              "      <td>&lt;NULL&gt;/ &lt;NULL&gt;/ &lt;NULL&gt;</td>\n",
              "      <td>2022-01-22</td>\n",
              "      <td>04:16:35</td>\n",
              "      <td>0.0</td>\n",
              "    </tr>\n",
              "    <tr>\n",
              "      <th>4</th>\n",
              "      <td>d6820111d10fcde14bf3fb393cc188d5c684b073797453...</td>\n",
              "      <td>15</td>\n",
              "      <td>Domèstic/Doméstico/Domestic</td>\n",
              "      <td>&lt;NULL&gt;/ &lt;NULL&gt;/ &lt;NULL&gt;</td>\n",
              "      <td>2022-01-22</td>\n",
              "      <td>05:16:35</td>\n",
              "      <td>0.0</td>\n",
              "    </tr>\n",
              "  </tbody>\n",
              "</table>\n",
              "</div>"
            ],
            "text/plain": [
              "                                                  ID  \\\n",
              "0  d6820111d10fcde14bf3fb393cc188d5c684b073797453...   \n",
              "1  d6820111d10fcde14bf3fb393cc188d5c684b073797453...   \n",
              "2  d6820111d10fcde14bf3fb393cc188d5c684b073797453...   \n",
              "3  d6820111d10fcde14bf3fb393cc188d5c684b073797453...   \n",
              "4  d6820111d10fcde14bf3fb393cc188d5c684b073797453...   \n",
              "\n",
              "   Diàmetre (mm)/Diámetro (mm)/Diameter (mm)                   Ús/Uso/Use  \\\n",
              "0                                         15  Domèstic/Doméstico/Domestic   \n",
              "1                                         15  Domèstic/Doméstico/Domestic   \n",
              "2                                         15  Domèstic/Doméstico/Domestic   \n",
              "3                                         15  Domèstic/Doméstico/Domestic   \n",
              "4                                         15  Domèstic/Doméstico/Domestic   \n",
              "\n",
              "  Tipus d'activitat econòmica/Tipo de actividad económica/Type of economic activity  \\\n",
              "0                             <NULL>/ <NULL>/ <NULL>                                  \n",
              "1                             <NULL>/ <NULL>/ <NULL>                                  \n",
              "2                             <NULL>/ <NULL>/ <NULL>                                  \n",
              "3                             <NULL>/ <NULL>/ <NULL>                                  \n",
              "4                             <NULL>/ <NULL>/ <NULL>                                  \n",
              "\n",
              "  Data/Fecha/Date Hora/Hora/Time  Consum (L/h)/Consumo (L/h)/Consumption (L/h)  \n",
              "0      2022-01-22       01:16:35                                           0.0  \n",
              "1      2022-01-22       02:16:35                                           0.0  \n",
              "2      2022-01-22       03:16:35                                           0.0  \n",
              "3      2022-01-22       04:16:35                                           0.0  \n",
              "4      2022-01-22       05:16:35                                           0.0  "
            ]
          },
          "execution_count": 28,
          "metadata": {},
          "output_type": "execute_result"
        }
      ],
      "source": [
        "# Change your path of the data if necessary\n",
        "dataset2 = 'C:/Users/edith/Desktop/TFG/Datasets/Aigües de Barcelona/Dataset2_V2/dataset2_v2.csv'\n",
        "dataset2 = pd.read_csv(dataset2)\n",
        "dataset2.head()"
      ]
    },
    {
      "cell_type": "markdown",
      "metadata": {
        "id": "pz8lKzLyK0ok"
      },
      "source": [
        "## 1. Exploratory Data Analysis"
      ]
    },
    {
      "cell_type": "markdown",
      "metadata": {
        "id": "-N2aBkvVWTez"
      },
      "source": [
        "As a starting point, we need to explore the data. We analyze the summary of descriptive statistics and plots for each of the datasets in order to detect the corresponding anomalies and subsequently process them correctly."
      ]
    },
    {
      "cell_type": "code",
      "execution_count": 29,
      "metadata": {
        "colab": {
          "base_uri": "https://localhost:8080/"
        },
        "id": "QnQf5Ny3K4yB",
        "outputId": "74d23b27-ab34-42bb-c413-1568adfd54c4"
      },
      "outputs": [
        {
          "name": "stdout",
          "output_type": "stream",
          "text": [
            "<class 'pandas.core.frame.DataFrame'>\n",
            "RangeIndex: 2100822 entries, 0 to 2100821\n",
            "Data columns (total 7 columns):\n",
            " #   Column                                                                             Dtype  \n",
            "---  ------                                                                             -----  \n",
            " 0   ID                                                                                 object \n",
            " 1   Diàmetre (mm)/Diámetro (mm)/Diameter (mm)                                          int64  \n",
            " 2   Ús/Uso/Use                                                                         object \n",
            " 3   Tipus d'activitat econòmica/Tipo de actividad económica/Type of economic activity  object \n",
            " 4   Data/Fecha/Date                                                                    object \n",
            " 5   Hora/Hora/Time                                                                     object \n",
            " 6   Consum (L/h)/Consumo (L/h)/Consumption (L/h)                                       float64\n",
            "dtypes: float64(1), int64(1), object(5)\n",
            "memory usage: 112.2+ MB\n"
          ]
        }
      ],
      "source": [
        "dataset2.info()"
      ]
    },
    {
      "cell_type": "code",
      "execution_count": 30,
      "metadata": {
        "colab": {
          "base_uri": "https://localhost:8080/",
          "height": 300
        },
        "id": "_aA8svCBK8gR",
        "outputId": "52550aff-5460-4de2-9859-98a1cfdc158b"
      },
      "outputs": [
        {
          "data": {
            "text/html": [
              "<div>\n",
              "<style scoped>\n",
              "    .dataframe tbody tr th:only-of-type {\n",
              "        vertical-align: middle;\n",
              "    }\n",
              "\n",
              "    .dataframe tbody tr th {\n",
              "        vertical-align: top;\n",
              "    }\n",
              "\n",
              "    .dataframe thead th {\n",
              "        text-align: right;\n",
              "    }\n",
              "</style>\n",
              "<table border=\"1\" class=\"dataframe\">\n",
              "  <thead>\n",
              "    <tr style=\"text-align: right;\">\n",
              "      <th></th>\n",
              "      <th>Diàmetre (mm)/Diámetro (mm)/Diameter (mm)</th>\n",
              "      <th>Consum (L/h)/Consumo (L/h)/Consumption (L/h)</th>\n",
              "    </tr>\n",
              "  </thead>\n",
              "  <tbody>\n",
              "    <tr>\n",
              "      <th>count</th>\n",
              "      <td>2.100822e+06</td>\n",
              "      <td>2.100822e+06</td>\n",
              "    </tr>\n",
              "    <tr>\n",
              "      <th>mean</th>\n",
              "      <td>1.563855e+01</td>\n",
              "      <td>1.868788e+01</td>\n",
              "    </tr>\n",
              "    <tr>\n",
              "      <th>std</th>\n",
              "      <td>4.053633e+00</td>\n",
              "      <td>1.006044e+02</td>\n",
              "    </tr>\n",
              "    <tr>\n",
              "      <th>min</th>\n",
              "      <td>1.500000e+01</td>\n",
              "      <td>-3.280000e+02</td>\n",
              "    </tr>\n",
              "    <tr>\n",
              "      <th>25%</th>\n",
              "      <td>1.500000e+01</td>\n",
              "      <td>0.000000e+00</td>\n",
              "    </tr>\n",
              "    <tr>\n",
              "      <th>50%</th>\n",
              "      <td>1.500000e+01</td>\n",
              "      <td>0.000000e+00</td>\n",
              "    </tr>\n",
              "    <tr>\n",
              "      <th>75%</th>\n",
              "      <td>1.500000e+01</td>\n",
              "      <td>1.000000e+01</td>\n",
              "    </tr>\n",
              "    <tr>\n",
              "      <th>max</th>\n",
              "      <td>6.500000e+01</td>\n",
              "      <td>9.350000e+03</td>\n",
              "    </tr>\n",
              "  </tbody>\n",
              "</table>\n",
              "</div>"
            ],
            "text/plain": [
              "       Diàmetre (mm)/Diámetro (mm)/Diameter (mm)  \\\n",
              "count                               2.100822e+06   \n",
              "mean                                1.563855e+01   \n",
              "std                                 4.053633e+00   \n",
              "min                                 1.500000e+01   \n",
              "25%                                 1.500000e+01   \n",
              "50%                                 1.500000e+01   \n",
              "75%                                 1.500000e+01   \n",
              "max                                 6.500000e+01   \n",
              "\n",
              "       Consum (L/h)/Consumo (L/h)/Consumption (L/h)  \n",
              "count                                  2.100822e+06  \n",
              "mean                                   1.868788e+01  \n",
              "std                                    1.006044e+02  \n",
              "min                                   -3.280000e+02  \n",
              "25%                                    0.000000e+00  \n",
              "50%                                    0.000000e+00  \n",
              "75%                                    1.000000e+01  \n",
              "max                                    9.350000e+03  "
            ]
          },
          "execution_count": 30,
          "metadata": {},
          "output_type": "execute_result"
        }
      ],
      "source": [
        "dataset2.describe()"
      ]
    },
    {
      "cell_type": "code",
      "execution_count": 31,
      "metadata": {},
      "outputs": [
        {
          "data": {
            "image/png": "[encoded data removed]",
            "text/plain": [
              "<Figure size 1000x600 with 1 Axes>"
            ]
          },
          "metadata": {},
          "output_type": "display_data"
        }
      ],
      "source": [
        "# Consumption over Time\n",
        "dataset2['Data/Fecha/Date'] = pd.to_datetime(dataset2['Data/Fecha/Date'])\n",
        "plt.figure(figsize=(10, 6))\n",
        "plt.scatter(dataset2['Data/Fecha/Date'], dataset2['Consum (L/h)/Consumo (L/h)/Consumption (L/h)'], color='blue', marker='o', s=50, alpha=0.7, label='Data Points')\n",
        "plt.xlabel('Date', fontsize=12)\n",
        "plt.ylabel('Consumption (L/h)', fontsize=12)\n",
        "plt.title('Time Series Plot of Consumption', fontsize=15)\n",
        "plt.xticks(rotation=45)\n",
        "plt.tight_layout()\n",
        "plt.show()"
      ]
    },
    {
      "cell_type": "code",
      "execution_count": 32,
      "metadata": {},
      "outputs": [
        {
          "data": {
            "image/png": "[encoded data removed]",
            "text/plain": [
              "<Figure size 1000x600 with 1 Axes>"
            ]
          },
          "metadata": {},
          "output_type": "display_data"
        }
      ],
      "source": [
        "# Aggregate total consumption for each type of use\n",
        "total_consumption_per_use = dataset2.groupby('Ús/Uso/Use')['Consum (L/h)/Consumo (L/h)/Consumption (L/h)'].sum()\n",
        "plt.figure(figsize=(10, 6))\n",
        "total_consumption_per_use.plot(kind='pie', autopct='%1.1f%%', startangle=140, colors=['lightskyblue', 'blue', 'cornflowerblue'])\n",
        "plt.title('Total Consumption per Type of Use', fontsize=14)\n",
        "plt.ylabel(None)\n",
        "plt.tight_layout()\n",
        "plt.axis('equal')\n",
        "plt.show()"
      ]
    },
    {
      "cell_type": "markdown",
      "metadata": {
        "id": "awKeelcoK_CN"
      },
      "source": [
        "**Insights:**\n",
        "- There are a significant number of zero values in Consumption. This can affect the performance of the model, especially in linear regression, since the presence of many zeros can affect the assumption of linearity.\n",
        "- Negative consumption values are considered as incorrect values for the Consumption (L/h) column. Consumption has to be positive."
      ]
    },
    {
      "cell_type": "markdown",
      "metadata": {
        "id": "0D69uMqtLFeG"
      },
      "source": [
        "## 2. Data Preprocessing"
      ]
    },
    {
      "cell_type": "markdown",
      "metadata": {
        "id": "wv3RrGp0LOSw"
      },
      "source": [
        "##### **2.1. Data Transformation**"
      ]
    },
    {
      "cell_type": "code",
      "execution_count": 33,
      "metadata": {
        "id": "gC74vUCYLEdO"
      },
      "outputs": [],
      "source": [
        "# Rename dataset2_v2 columns\n",
        "new_column_names = {\n",
        "    'ID': 'ID',\n",
        "    'Diàmetre (mm)/Diámetro (mm)/Diameter (mm)': 'Diameter (mm)',\n",
        "    'Ús/Uso/Use': 'Use',\n",
        "    \"Tipus d'activitat econòmica/Tipo de actividad económica/Type of economic activity\": 'Type of economic activity',\n",
        "    'Data/Fecha/Date': 'Date',\n",
        "    'Hora/Hora/Time': 'Time',\n",
        "    'Consum (L/h)/Consumo (L/h)/Consumption (L/h)': 'Consumption (L/h)'\n",
        "}\n",
        "\n",
        "dataset2.rename(columns=new_column_names, inplace=True)"
      ]
    },
    {
      "cell_type": "code",
      "execution_count": 34,
      "metadata": {
        "colab": {
          "base_uri": "https://localhost:8080/"
        },
        "id": "6zVdll9wLKrd",
        "outputId": "3f74240b-2196-4ffa-c2b5-d3996ac3fe10"
      },
      "outputs": [
        {
          "name": "stdout",
          "output_type": "stream",
          "text": [
            "<class 'pandas.core.frame.DataFrame'>\n",
            "RangeIndex: 2100822 entries, 0 to 2100821\n",
            "Data columns (total 7 columns):\n",
            " #   Column                     Dtype         \n",
            "---  ------                     -----         \n",
            " 0   ID                         object        \n",
            " 1   Diameter (mm)              int64         \n",
            " 2   Use                        object        \n",
            " 3   Type of economic activity  object        \n",
            " 4   Date                       datetime64[ns]\n",
            " 5   Time                       object        \n",
            " 6   Consumption (L/h)          float64       \n",
            "dtypes: datetime64[ns](1), float64(1), int64(1), object(4)\n",
            "memory usage: 112.2+ MB\n"
          ]
        }
      ],
      "source": [
        "dataset2.info()"
      ]
    },
    {
      "cell_type": "markdown",
      "metadata": {
        "id": "t-owQEFELUyq"
      },
      "source": [
        "##### **2.2. Null Values**"
      ]
    },
    {
      "cell_type": "code",
      "execution_count": 35,
      "metadata": {
        "colab": {
          "base_uri": "https://localhost:8080/"
        },
        "id": "m7XfNVNQLYHT",
        "outputId": "ad0be32b-24ff-49c5-a1b1-a3a56e87514e"
      },
      "outputs": [
        {
          "name": "stdout",
          "output_type": "stream",
          "text": [
            "Column: ID - Null values:  0\n",
            "Column: Diameter (mm) - Null values:  0\n",
            "Column: Use - Null values:  0\n",
            "Column: Type of economic activity - Null values:  0\n",
            "Column: Date - Null values:  0\n",
            "Column: Time - Null values:  0\n",
            "Column: Consumption (L/h) - Null values:  0\n"
          ]
        }
      ],
      "source": [
        "# Null values per column\n",
        "count = 0\n",
        "columns_dataset2 = dataset2.columns\n",
        "for column in columns_dataset2:\n",
        "  print(\"Column:\", column, \"- Null values: \", dataset2[column].isnull().sum())"
      ]
    },
    {
      "cell_type": "markdown",
      "metadata": {},
      "source": [
        "##### **2.3. Wrong Values**"
      ]
    },
    {
      "cell_type": "markdown",
      "metadata": {},
      "source": [
        "Now we want to identify the erroneous values in our data. We consider as wrong values the negative consumptions. We will store those values for later analysis."
      ]
    },
    {
      "cell_type": "code",
      "execution_count": 36,
      "metadata": {},
      "outputs": [
        {
          "name": "stdout",
          "output_type": "stream",
          "text": [
            "Negative in 'Consumption (L/h)' in the dataset: 567\n"
          ]
        }
      ],
      "source": [
        "# We identify negative values in consumption\n",
        "num_negative_consum_rows = len(dataset2[dataset2['Consumption (L/h)'] < 0])\n",
        "print(\"Negative in 'Consumption (L/h)' in the dataset:\", num_negative_consum_rows)"
      ]
    },
    {
      "cell_type": "code",
      "execution_count": 37,
      "metadata": {},
      "outputs": [
        {
          "data": {
            "text/html": [
              "<div>\n",
              "<style scoped>\n",
              "    .dataframe tbody tr th:only-of-type {\n",
              "        vertical-align: middle;\n",
              "    }\n",
              "\n",
              "    .dataframe tbody tr th {\n",
              "        vertical-align: top;\n",
              "    }\n",
              "\n",
              "    .dataframe thead th {\n",
              "        text-align: right;\n",
              "    }\n",
              "</style>\n",
              "<table border=\"1\" class=\"dataframe\">\n",
              "  <thead>\n",
              "    <tr style=\"text-align: right;\">\n",
              "      <th></th>\n",
              "      <th>ID</th>\n",
              "      <th>Diameter (mm)</th>\n",
              "      <th>Use</th>\n",
              "      <th>Type of economic activity</th>\n",
              "      <th>Date</th>\n",
              "      <th>Time</th>\n",
              "      <th>Consumption (L/h)</th>\n",
              "    </tr>\n",
              "  </thead>\n",
              "  <tbody>\n",
              "    <tr>\n",
              "      <th>255826</th>\n",
              "      <td>25dad700550a3792c875e4fcbfb990067748c5b760b8e8...</td>\n",
              "      <td>15</td>\n",
              "      <td>Comercial/Comercial/Commercial</td>\n",
              "      <td>* de vehicles automòbils, bicicletes i altres/...</td>\n",
              "      <td>2022-01-21</td>\n",
              "      <td>03:42:02</td>\n",
              "      <td>-1.0</td>\n",
              "    </tr>\n",
              "    <tr>\n",
              "      <th>258447</th>\n",
              "      <td>25dad700550a3792c875e4fcbfb990067748c5b760b8e8...</td>\n",
              "      <td>15</td>\n",
              "      <td>Comercial/Comercial/Commercial</td>\n",
              "      <td>* de vehicles automòbils, bicicletes i altres/...</td>\n",
              "      <td>2022-05-15</td>\n",
              "      <td>08:35:11</td>\n",
              "      <td>-2.0</td>\n",
              "    </tr>\n",
              "    <tr>\n",
              "      <th>258476</th>\n",
              "      <td>25dad700550a3792c875e4fcbfb990067748c5b760b8e8...</td>\n",
              "      <td>15</td>\n",
              "      <td>Comercial/Comercial/Commercial</td>\n",
              "      <td>* de vehicles automòbils, bicicletes i altres/...</td>\n",
              "      <td>2022-05-16</td>\n",
              "      <td>13:35:05</td>\n",
              "      <td>-18.0</td>\n",
              "    </tr>\n",
              "    <tr>\n",
              "      <th>258749</th>\n",
              "      <td>25dad700550a3792c875e4fcbfb990067748c5b760b8e8...</td>\n",
              "      <td>15</td>\n",
              "      <td>Comercial/Comercial/Commercial</td>\n",
              "      <td>* de vehicles automòbils, bicicletes i altres/...</td>\n",
              "      <td>2022-05-28</td>\n",
              "      <td>18:34:21</td>\n",
              "      <td>-1.0</td>\n",
              "    </tr>\n",
              "    <tr>\n",
              "      <th>258989</th>\n",
              "      <td>25dad700550a3792c875e4fcbfb990067748c5b760b8e8...</td>\n",
              "      <td>15</td>\n",
              "      <td>Comercial/Comercial/Commercial</td>\n",
              "      <td>* de vehicles automòbils, bicicletes i altres/...</td>\n",
              "      <td>2022-06-08</td>\n",
              "      <td>08:33:38</td>\n",
              "      <td>-1.0</td>\n",
              "    </tr>\n",
              "  </tbody>\n",
              "</table>\n",
              "</div>"
            ],
            "text/plain": [
              "                                                       ID  Diameter (mm)  \\\n",
              "255826  25dad700550a3792c875e4fcbfb990067748c5b760b8e8...             15   \n",
              "258447  25dad700550a3792c875e4fcbfb990067748c5b760b8e8...             15   \n",
              "258476  25dad700550a3792c875e4fcbfb990067748c5b760b8e8...             15   \n",
              "258749  25dad700550a3792c875e4fcbfb990067748c5b760b8e8...             15   \n",
              "258989  25dad700550a3792c875e4fcbfb990067748c5b760b8e8...             15   \n",
              "\n",
              "                                   Use  \\\n",
              "255826  Comercial/Comercial/Commercial   \n",
              "258447  Comercial/Comercial/Commercial   \n",
              "258476  Comercial/Comercial/Commercial   \n",
              "258749  Comercial/Comercial/Commercial   \n",
              "258989  Comercial/Comercial/Commercial   \n",
              "\n",
              "                                Type of economic activity       Date  \\\n",
              "255826  * de vehicles automòbils, bicicletes i altres/... 2022-01-21   \n",
              "258447  * de vehicles automòbils, bicicletes i altres/... 2022-05-15   \n",
              "258476  * de vehicles automòbils, bicicletes i altres/... 2022-05-16   \n",
              "258749  * de vehicles automòbils, bicicletes i altres/... 2022-05-28   \n",
              "258989  * de vehicles automòbils, bicicletes i altres/... 2022-06-08   \n",
              "\n",
              "            Time  Consumption (L/h)  \n",
              "255826  03:42:02               -1.0  \n",
              "258447  08:35:11               -2.0  \n",
              "258476  13:35:05              -18.0  \n",
              "258749  18:34:21               -1.0  \n",
              "258989  08:33:38               -1.0  "
            ]
          },
          "execution_count": 37,
          "metadata": {},
          "output_type": "execute_result"
        }
      ],
      "source": [
        "# Copy the negative values into the anomalies dataset for later analysis\n",
        "anomalies = dataset2[dataset2['Consumption (L/h)'] < 0].copy()\n",
        "anomalies.head()"
      ]
    },
    {
      "cell_type": "code",
      "execution_count": 38,
      "metadata": {},
      "outputs": [
        {
          "name": "stdout",
          "output_type": "stream",
          "text": [
            "Negative in 'Consumption (L/h)' in the dataset: 0\n",
            "Number of Nulls in the dataset without negative values: 567\n"
          ]
        }
      ],
      "source": [
        "# Replace negative values in Consumption (L/h) by null\n",
        "dataset2_1 = dataset2.copy()\n",
        "dataset2_1.loc[dataset2_1['Consumption (L/h)'] < 0, 'Consumption (L/h)'] = np.nan\n",
        "\n",
        "# Number of negative values in Consumption (L/h) after removing negative values\n",
        "num_negative_consum_rows2 = len(dataset2_1[dataset2_1['Consumption (L/h)'] < 0])\n",
        "print(\"Negative in 'Consumption (L/h)' in the dataset:\", num_negative_consum_rows2)\n",
        "\n",
        "# Number of null values in Consumption (L/h) after removing negative values\n",
        "print(\"Number of Nulls in the dataset without negative values:\", dataset2_1['Consumption (L/h)'].isnull().sum())"
      ]
    },
    {
      "cell_type": "markdown",
      "metadata": {
        "id": "RjbMXGPAL-PX"
      },
      "source": [
        "##### **2.4. Outliers**"
      ]
    },
    {
      "cell_type": "code",
      "execution_count": 39,
      "metadata": {
        "colab": {
          "base_uri": "https://localhost:8080/",
          "height": 206
        },
        "id": "NdySlnrSMAXx",
        "outputId": "7804b6fd-fc55-4ab7-e526-74fd3a55cfb9"
      },
      "outputs": [],
      "source": [
        "# Treatment of outliers in Consumption (L/h) with the IQR method\n",
        "\n",
        "# We separate according to USE: Industrial, Domestic or Commercial\n",
        "domestic_df = dataset2_1[dataset2_1['Use'].str.contains('Domèstic', case=False, na=False)].copy()\n",
        "industrial_df = dataset2_1[dataset2_1['Use'].str.contains('Industrial', case=False, na=False)].copy()\n",
        "comercial_df = dataset2_1[dataset2_1['Use'].str.contains('Comercial', case=False, na=False)].copy()\n",
        "\n",
        "def outliers_iqr(dataframe):\n",
        "    global anomalies\n",
        "\n",
        "    # We compute the IQR for the 'Consumption' column\n",
        "    consum_col = 'Consumption (L/h)'\n",
        "    Q1 = dataframe[consum_col].quantile(0.25)\n",
        "    Q3 = dataframe[consum_col].quantile(0.75)\n",
        "    IQR = Q3 - Q1\n",
        "\n",
        "    # We identify the outliers\n",
        "    outlier_filter = ((dataframe[consum_col] < (Q1 - 1.5 * IQR)) | (dataframe[consum_col] > (Q3 + 1.5 * IQR)))\n",
        "    \n",
        "    # Copy the outlier value into the anomalies dataset for later analysis\n",
        "    outliers = dataframe[outlier_filter].copy()\n",
        "    anomalies = pd.concat([anomalies, outliers], ignore_index=True)\n",
        "    \n",
        "    # And replace them with null\n",
        "    dataframe.loc[outlier_filter, consum_col] = np.nan\n",
        "\n",
        "    return dataframe\n",
        "\n",
        "# We apply the function for each dataframe corresponding to each \"Use\"\n",
        "domestic_df = outliers_iqr(domestic_df)\n",
        "industrial_df = outliers_iqr(industrial_df)\n",
        "comercial_df = outliers_iqr(comercial_df)\n",
        "\n",
        "dataset2_filtered = pd.concat([domestic_df, industrial_df, comercial_df], ignore_index=True)"
      ]
    },
    {
      "cell_type": "code",
      "execution_count": 40,
      "metadata": {},
      "outputs": [
        {
          "name": "stdout",
          "output_type": "stream",
          "text": [
            "<class 'pandas.core.frame.DataFrame'>\n",
            "RangeIndex: 286754 entries, 0 to 286753\n",
            "Data columns (total 7 columns):\n",
            " #   Column                     Non-Null Count   Dtype         \n",
            "---  ------                     --------------   -----         \n",
            " 0   ID                         286754 non-null  object        \n",
            " 1   Diameter (mm)              286754 non-null  int64         \n",
            " 2   Use                        286754 non-null  object        \n",
            " 3   Type of economic activity  286754 non-null  object        \n",
            " 4   Date                       286754 non-null  datetime64[ns]\n",
            " 5   Time                       286754 non-null  object        \n",
            " 6   Consumption (L/h)          286754 non-null  float64       \n",
            "dtypes: datetime64[ns](1), float64(1), int64(1), object(4)\n",
            "memory usage: 15.3+ MB\n"
          ]
        }
      ],
      "source": [
        "anomalies.info()"
      ]
    },
    {
      "cell_type": "code",
      "execution_count": 41,
      "metadata": {
        "colab": {
          "base_uri": "https://localhost:8080/"
        },
        "id": "M6gXBpMjMF1l",
        "outputId": "e7a46c26-72d7-4b6d-b017-b714e3998581"
      },
      "outputs": [
        {
          "name": "stdout",
          "output_type": "stream",
          "text": [
            "Number of Nulls in the dataset with outliers but no negatives: 567\n",
            "Number of Nulls in the dataset without outliers nor negatives: 286754\n"
          ]
        }
      ],
      "source": [
        "# Number of null values in Consumption (L/h) prior to removing outliers\n",
        "print(\"Number of Nulls in the dataset with outliers but no negatives:\", dataset2_1['Consumption (L/h)'].isnull().sum())   #dataset with outliers\n",
        "\n",
        "# Number of null values in Consumption (L/h) after removing outliers\n",
        "print(\"Number of Nulls in the dataset without outliers nor negatives:\", dataset2_filtered['Consumption (L/h)'].isnull().sum()) #dataset without outliers"
      ]
    },
    {
      "cell_type": "markdown",
      "metadata": {
        "id": "4o3NrxgQW0GU"
      },
      "source": [
        "##### **2.5. Storage of Anomalies**"
      ]
    },
    {
      "cell_type": "markdown",
      "metadata": {},
      "source": [
        "If all anomalies in the data have been cleaned correctly we should have the sum of the number of outlier values and negatives remaining in our anomalies stored.\n",
        "\n",
        "Negative values removed = 567\n",
        "\n",
        "Outliers removed = 286754 - 567 = 286187\n",
        "\n",
        "Total number of anomalies = 286754"
      ]
    },
    {
      "cell_type": "code",
      "execution_count": 42,
      "metadata": {
        "id": "j0BvIe7BlR4U"
      },
      "outputs": [
        {
          "data": {
            "text/html": [
              "<div>\n",
              "<style scoped>\n",
              "    .dataframe tbody tr th:only-of-type {\n",
              "        vertical-align: middle;\n",
              "    }\n",
              "\n",
              "    .dataframe tbody tr th {\n",
              "        vertical-align: top;\n",
              "    }\n",
              "\n",
              "    .dataframe thead th {\n",
              "        text-align: right;\n",
              "    }\n",
              "</style>\n",
              "<table border=\"1\" class=\"dataframe\">\n",
              "  <thead>\n",
              "    <tr style=\"text-align: right;\">\n",
              "      <th></th>\n",
              "      <th>ID</th>\n",
              "      <th>Diameter (mm)</th>\n",
              "      <th>Use</th>\n",
              "      <th>Type of economic activity</th>\n",
              "      <th>Date</th>\n",
              "      <th>Time</th>\n",
              "      <th>Consumption (L/h)</th>\n",
              "    </tr>\n",
              "  </thead>\n",
              "  <tbody>\n",
              "    <tr>\n",
              "      <th>0</th>\n",
              "      <td>25dad700550a3792c875e4fcbfb990067748c5b760b8e8...</td>\n",
              "      <td>15</td>\n",
              "      <td>Comercial/Comercial/Commercial</td>\n",
              "      <td>* de vehicles automòbils, bicicletes i altres/...</td>\n",
              "      <td>2022-01-21</td>\n",
              "      <td>03:42:02</td>\n",
              "      <td>-1.0</td>\n",
              "    </tr>\n",
              "    <tr>\n",
              "      <th>1</th>\n",
              "      <td>25dad700550a3792c875e4fcbfb990067748c5b760b8e8...</td>\n",
              "      <td>15</td>\n",
              "      <td>Comercial/Comercial/Commercial</td>\n",
              "      <td>* de vehicles automòbils, bicicletes i altres/...</td>\n",
              "      <td>2022-05-15</td>\n",
              "      <td>08:35:11</td>\n",
              "      <td>-2.0</td>\n",
              "    </tr>\n",
              "    <tr>\n",
              "      <th>2</th>\n",
              "      <td>25dad700550a3792c875e4fcbfb990067748c5b760b8e8...</td>\n",
              "      <td>15</td>\n",
              "      <td>Comercial/Comercial/Commercial</td>\n",
              "      <td>* de vehicles automòbils, bicicletes i altres/...</td>\n",
              "      <td>2022-05-16</td>\n",
              "      <td>13:35:05</td>\n",
              "      <td>-18.0</td>\n",
              "    </tr>\n",
              "    <tr>\n",
              "      <th>3</th>\n",
              "      <td>25dad700550a3792c875e4fcbfb990067748c5b760b8e8...</td>\n",
              "      <td>15</td>\n",
              "      <td>Comercial/Comercial/Commercial</td>\n",
              "      <td>* de vehicles automòbils, bicicletes i altres/...</td>\n",
              "      <td>2022-05-28</td>\n",
              "      <td>18:34:21</td>\n",
              "      <td>-1.0</td>\n",
              "    </tr>\n",
              "    <tr>\n",
              "      <th>4</th>\n",
              "      <td>25dad700550a3792c875e4fcbfb990067748c5b760b8e8...</td>\n",
              "      <td>15</td>\n",
              "      <td>Comercial/Comercial/Commercial</td>\n",
              "      <td>* de vehicles automòbils, bicicletes i altres/...</td>\n",
              "      <td>2022-06-08</td>\n",
              "      <td>08:33:38</td>\n",
              "      <td>-1.0</td>\n",
              "    </tr>\n",
              "  </tbody>\n",
              "</table>\n",
              "</div>"
            ],
            "text/plain": [
              "                                                  ID  Diameter (mm)  \\\n",
              "0  25dad700550a3792c875e4fcbfb990067748c5b760b8e8...             15   \n",
              "1  25dad700550a3792c875e4fcbfb990067748c5b760b8e8...             15   \n",
              "2  25dad700550a3792c875e4fcbfb990067748c5b760b8e8...             15   \n",
              "3  25dad700550a3792c875e4fcbfb990067748c5b760b8e8...             15   \n",
              "4  25dad700550a3792c875e4fcbfb990067748c5b760b8e8...             15   \n",
              "\n",
              "                              Use  \\\n",
              "0  Comercial/Comercial/Commercial   \n",
              "1  Comercial/Comercial/Commercial   \n",
              "2  Comercial/Comercial/Commercial   \n",
              "3  Comercial/Comercial/Commercial   \n",
              "4  Comercial/Comercial/Commercial   \n",
              "\n",
              "                           Type of economic activity       Date      Time  \\\n",
              "0  * de vehicles automòbils, bicicletes i altres/... 2022-01-21  03:42:02   \n",
              "1  * de vehicles automòbils, bicicletes i altres/... 2022-05-15  08:35:11   \n",
              "2  * de vehicles automòbils, bicicletes i altres/... 2022-05-16  13:35:05   \n",
              "3  * de vehicles automòbils, bicicletes i altres/... 2022-05-28  18:34:21   \n",
              "4  * de vehicles automòbils, bicicletes i altres/... 2022-06-08  08:33:38   \n",
              "\n",
              "   Consumption (L/h)  \n",
              "0               -1.0  \n",
              "1               -2.0  \n",
              "2              -18.0  \n",
              "3               -1.0  \n",
              "4               -1.0  "
            ]
          },
          "execution_count": 42,
          "metadata": {},
          "output_type": "execute_result"
        }
      ],
      "source": [
        "# Save current clean dataset for classification of anomalies\n",
        "clean_data = dataset2_filtered.copy()\n",
        "\n",
        "anomalies.head()"
      ]
    },
    {
      "cell_type": "markdown",
      "metadata": {
        "id": "9SywrSlYWuQ7"
      },
      "source": [
        "## 3. Data Enhancement\n"
      ]
    },
    {
      "cell_type": "code",
      "execution_count": 43,
      "metadata": {
        "id": "H_C9VNXmLarj"
      },
      "outputs": [
        {
          "name": "stdout",
          "output_type": "stream",
          "text": [
            "<class 'pandas.core.frame.DataFrame'>\n",
            "RangeIndex: 2100822 entries, 0 to 2100821\n",
            "Data columns (total 7 columns):\n",
            " #   Column                     Dtype         \n",
            "---  ------                     -----         \n",
            " 0   ID                         object        \n",
            " 1   Diameter (mm)              int64         \n",
            " 2   Use                        object        \n",
            " 3   Type of economic activity  object        \n",
            " 4   Date                       datetime64[ns]\n",
            " 5   Time                       object        \n",
            " 6   Consumption (L/h)          float64       \n",
            "dtypes: datetime64[ns](1), float64(1), int64(1), object(4)\n",
            "memory usage: 112.2+ MB\n"
          ]
        }
      ],
      "source": [
        "# Convert \"Date\" and \"Time\" column to datetime\n",
        "dataset2_filtered['Date'] = pd.to_datetime(dataset2_filtered['Date'])\n",
        "dataset2_filtered['Time'] = pd.to_datetime(dataset2_filtered['Time']).dt.time\n",
        "dataset2_filtered.info()"
      ]
    },
    {
      "cell_type": "code",
      "execution_count": 44,
      "metadata": {
        "colab": {
          "base_uri": "https://localhost:8080/",
          "height": 206
        },
        "id": "XsVY0k9FMwml",
        "outputId": "62b93987-7fc7-469c-cab0-dd57a83c092a"
      },
      "outputs": [
        {
          "data": {
            "text/html": [
              "<div>\n",
              "<style scoped>\n",
              "    .dataframe tbody tr th:only-of-type {\n",
              "        vertical-align: middle;\n",
              "    }\n",
              "\n",
              "    .dataframe tbody tr th {\n",
              "        vertical-align: top;\n",
              "    }\n",
              "\n",
              "    .dataframe thead th {\n",
              "        text-align: right;\n",
              "    }\n",
              "</style>\n",
              "<table border=\"1\" class=\"dataframe\">\n",
              "  <thead>\n",
              "    <tr style=\"text-align: right;\">\n",
              "      <th></th>\n",
              "      <th>ID</th>\n",
              "      <th>Diameter (mm)</th>\n",
              "      <th>Use</th>\n",
              "      <th>Type of economic activity</th>\n",
              "      <th>Date</th>\n",
              "      <th>Time</th>\n",
              "      <th>Consumption (L/h)</th>\n",
              "      <th>Day time</th>\n",
              "      <th>Season</th>\n",
              "      <th>Day of Week</th>\n",
              "      <th>Month</th>\n",
              "      <th>Year</th>\n",
              "    </tr>\n",
              "  </thead>\n",
              "  <tbody>\n",
              "    <tr>\n",
              "      <th>0</th>\n",
              "      <td>d6820111d10fcde14bf3fb393cc188d5c684b073797453...</td>\n",
              "      <td>15</td>\n",
              "      <td>Domèstic/Doméstico/Domestic</td>\n",
              "      <td>&lt;NULL&gt;/ &lt;NULL&gt;/ &lt;NULL&gt;</td>\n",
              "      <td>2022-01-22</td>\n",
              "      <td>01:16:35</td>\n",
              "      <td>0.0</td>\n",
              "      <td>Night</td>\n",
              "      <td>Winter</td>\n",
              "      <td>Saturday</td>\n",
              "      <td>1</td>\n",
              "      <td>2022</td>\n",
              "    </tr>\n",
              "    <tr>\n",
              "      <th>1</th>\n",
              "      <td>d6820111d10fcde14bf3fb393cc188d5c684b073797453...</td>\n",
              "      <td>15</td>\n",
              "      <td>Domèstic/Doméstico/Domestic</td>\n",
              "      <td>&lt;NULL&gt;/ &lt;NULL&gt;/ &lt;NULL&gt;</td>\n",
              "      <td>2022-01-22</td>\n",
              "      <td>02:16:35</td>\n",
              "      <td>0.0</td>\n",
              "      <td>Night</td>\n",
              "      <td>Winter</td>\n",
              "      <td>Saturday</td>\n",
              "      <td>1</td>\n",
              "      <td>2022</td>\n",
              "    </tr>\n",
              "    <tr>\n",
              "      <th>2</th>\n",
              "      <td>d6820111d10fcde14bf3fb393cc188d5c684b073797453...</td>\n",
              "      <td>15</td>\n",
              "      <td>Domèstic/Doméstico/Domestic</td>\n",
              "      <td>&lt;NULL&gt;/ &lt;NULL&gt;/ &lt;NULL&gt;</td>\n",
              "      <td>2022-01-22</td>\n",
              "      <td>03:16:35</td>\n",
              "      <td>0.0</td>\n",
              "      <td>Night</td>\n",
              "      <td>Winter</td>\n",
              "      <td>Saturday</td>\n",
              "      <td>1</td>\n",
              "      <td>2022</td>\n",
              "    </tr>\n",
              "    <tr>\n",
              "      <th>3</th>\n",
              "      <td>d6820111d10fcde14bf3fb393cc188d5c684b073797453...</td>\n",
              "      <td>15</td>\n",
              "      <td>Domèstic/Doméstico/Domestic</td>\n",
              "      <td>&lt;NULL&gt;/ &lt;NULL&gt;/ &lt;NULL&gt;</td>\n",
              "      <td>2022-01-22</td>\n",
              "      <td>04:16:35</td>\n",
              "      <td>0.0</td>\n",
              "      <td>Night</td>\n",
              "      <td>Winter</td>\n",
              "      <td>Saturday</td>\n",
              "      <td>1</td>\n",
              "      <td>2022</td>\n",
              "    </tr>\n",
              "    <tr>\n",
              "      <th>4</th>\n",
              "      <td>d6820111d10fcde14bf3fb393cc188d5c684b073797453...</td>\n",
              "      <td>15</td>\n",
              "      <td>Domèstic/Doméstico/Domestic</td>\n",
              "      <td>&lt;NULL&gt;/ &lt;NULL&gt;/ &lt;NULL&gt;</td>\n",
              "      <td>2022-01-22</td>\n",
              "      <td>05:16:35</td>\n",
              "      <td>0.0</td>\n",
              "      <td>Night</td>\n",
              "      <td>Winter</td>\n",
              "      <td>Saturday</td>\n",
              "      <td>1</td>\n",
              "      <td>2022</td>\n",
              "    </tr>\n",
              "  </tbody>\n",
              "</table>\n",
              "</div>"
            ],
            "text/plain": [
              "                                                  ID  Diameter (mm)  \\\n",
              "0  d6820111d10fcde14bf3fb393cc188d5c684b073797453...             15   \n",
              "1  d6820111d10fcde14bf3fb393cc188d5c684b073797453...             15   \n",
              "2  d6820111d10fcde14bf3fb393cc188d5c684b073797453...             15   \n",
              "3  d6820111d10fcde14bf3fb393cc188d5c684b073797453...             15   \n",
              "4  d6820111d10fcde14bf3fb393cc188d5c684b073797453...             15   \n",
              "\n",
              "                           Use Type of economic activity       Date      Time  \\\n",
              "0  Domèstic/Doméstico/Domestic    <NULL>/ <NULL>/ <NULL> 2022-01-22  01:16:35   \n",
              "1  Domèstic/Doméstico/Domestic    <NULL>/ <NULL>/ <NULL> 2022-01-22  02:16:35   \n",
              "2  Domèstic/Doméstico/Domestic    <NULL>/ <NULL>/ <NULL> 2022-01-22  03:16:35   \n",
              "3  Domèstic/Doméstico/Domestic    <NULL>/ <NULL>/ <NULL> 2022-01-22  04:16:35   \n",
              "4  Domèstic/Doméstico/Domestic    <NULL>/ <NULL>/ <NULL> 2022-01-22  05:16:35   \n",
              "\n",
              "   Consumption (L/h) Day time  Season Day of Week  Month  Year  \n",
              "0                0.0    Night  Winter    Saturday      1  2022  \n",
              "1                0.0    Night  Winter    Saturday      1  2022  \n",
              "2                0.0    Night  Winter    Saturday      1  2022  \n",
              "3                0.0    Night  Winter    Saturday      1  2022  \n",
              "4                0.0    Night  Winter    Saturday      1  2022  "
            ]
          },
          "execution_count": 44,
          "metadata": {},
          "output_type": "execute_result"
        }
      ],
      "source": [
        "# We create a new \"Day time\" column based on the \"Time\" column\n",
        "def map_to_time(time):\n",
        "    hour = time.hour\n",
        "    if 6 <= hour < 12:\n",
        "        return 'Morning'\n",
        "    elif 12 <= hour < 21:\n",
        "        return 'Afternoon'\n",
        "    else:\n",
        "        return 'Night'\n",
        "    \n",
        "dataset2_filtered['Day time'] = dataset2_filtered['Time'].map(map_to_time)\n",
        "\n",
        "# We create a new \"Season\" column based on the \"Date\" column\n",
        "def map_to_season(month):\n",
        "    if 3 <= month <= 5:\n",
        "        return 'Spring'\n",
        "    elif 6 <= month <= 8:\n",
        "        return 'Summer'\n",
        "    elif 9 <= month <= 11:\n",
        "        return 'Autumn'\n",
        "    else:\n",
        "        return 'Winter'\n",
        "\n",
        "dataset2_filtered['Season'] = dataset2_filtered['Date'].dt.month.map(map_to_season)\n",
        "\n",
        "# We create a new column \"Day_of_Week\" based on the column \"Date\"\n",
        "dataset2_filtered['Day of Week'] = dataset2_filtered['Date'].dt.day_name()\n",
        "\n",
        "# We create a new column \"Month\" based on the column \"Date\"\n",
        "dataset2_filtered['Month'] = dataset2_filtered['Date'].dt.month\n",
        "\n",
        "# We create a new column \"Year\" based on the column \"Date\"\n",
        "dataset2_filtered['Year'] = dataset2_filtered['Date'].dt.year\n",
        "\n",
        "dataset2_filtered.head()"
      ]
    },
    {
      "cell_type": "markdown",
      "metadata": {},
      "source": [
        "As we can see now all data in this dataset is from year 2022. This is important as now we are going to add new information from other datasets and we are going to need the dates to match."
      ]
    },
    {
      "cell_type": "code",
      "execution_count": 45,
      "metadata": {
        "colab": {
          "base_uri": "https://localhost:8080/"
        },
        "id": "yMOYLqg9tFjQ",
        "outputId": "66d313a1-7436-47d1-d4a6-602d8f27ad43"
      },
      "outputs": [
        {
          "data": {
            "text/plain": [
              "array([2022], dtype=int64)"
            ]
          },
          "execution_count": 45,
          "metadata": {},
          "output_type": "execute_result"
        }
      ],
      "source": [
        "dataset2_filtered['Year'].unique()"
      ]
    },
    {
      "cell_type": "markdown",
      "metadata": {},
      "source": [
        "Lets add information to the dataset about the precipitations in Barcelona for the dates of each entrie as well as information about the temperatures. Both precipitation and temperatures should have a strong correlation with the consumed water."
      ]
    },
    {
      "cell_type": "code",
      "execution_count": 46,
      "metadata": {},
      "outputs": [
        {
          "data": {
            "text/html": [
              "<div>\n",
              "<style scoped>\n",
              "    .dataframe tbody tr th:only-of-type {\n",
              "        vertical-align: middle;\n",
              "    }\n",
              "\n",
              "    .dataframe tbody tr th {\n",
              "        vertical-align: top;\n",
              "    }\n",
              "\n",
              "    .dataframe thead th {\n",
              "        text-align: right;\n",
              "    }\n",
              "</style>\n",
              "<table border=\"1\" class=\"dataframe\">\n",
              "  <thead>\n",
              "    <tr style=\"text-align: right;\">\n",
              "      <th></th>\n",
              "      <th>Any</th>\n",
              "      <th>Mes</th>\n",
              "      <th>Desc_Mes</th>\n",
              "      <th>Precipitacions</th>\n",
              "    </tr>\n",
              "  </thead>\n",
              "  <tbody>\n",
              "    <tr>\n",
              "      <th>0</th>\n",
              "      <td>1786</td>\n",
              "      <td>1</td>\n",
              "      <td>Gener</td>\n",
              "      <td>32.8</td>\n",
              "    </tr>\n",
              "    <tr>\n",
              "      <th>1</th>\n",
              "      <td>1786</td>\n",
              "      <td>2</td>\n",
              "      <td>Febrer</td>\n",
              "      <td>28.4</td>\n",
              "    </tr>\n",
              "    <tr>\n",
              "      <th>2</th>\n",
              "      <td>1786</td>\n",
              "      <td>3</td>\n",
              "      <td>Març</td>\n",
              "      <td>84.4</td>\n",
              "    </tr>\n",
              "    <tr>\n",
              "      <th>3</th>\n",
              "      <td>1786</td>\n",
              "      <td>4</td>\n",
              "      <td>Abril</td>\n",
              "      <td>42.3</td>\n",
              "    </tr>\n",
              "    <tr>\n",
              "      <th>4</th>\n",
              "      <td>1786</td>\n",
              "      <td>5</td>\n",
              "      <td>Maig</td>\n",
              "      <td>8.5</td>\n",
              "    </tr>\n",
              "  </tbody>\n",
              "</table>\n",
              "</div>"
            ],
            "text/plain": [
              "    Any  Mes Desc_Mes  Precipitacions\n",
              "0  1786    1    Gener            32.8\n",
              "1  1786    2   Febrer            28.4\n",
              "2  1786    3     Març            84.4\n",
              "3  1786    4    Abril            42.3\n",
              "4  1786    5     Maig             8.5"
            ]
          },
          "execution_count": 46,
          "metadata": {},
          "output_type": "execute_result"
        }
      ],
      "source": [
        "# Change your path of the data if necessary\n",
        "dataset_rain = 'C:/Users/edith/Desktop/TFG/Datasets/OpenDataBCN/precipitacionsbcndesde1786_2023_long.csv'\n",
        "dataset_rain = pd.read_csv(dataset_rain)\n",
        "dataset_rain.head()"
      ]
    },
    {
      "cell_type": "code",
      "execution_count": 47,
      "metadata": {},
      "outputs": [
        {
          "data": {
            "text/html": [
              "<div>\n",
              "<style scoped>\n",
              "    .dataframe tbody tr th:only-of-type {\n",
              "        vertical-align: middle;\n",
              "    }\n",
              "\n",
              "    .dataframe tbody tr th {\n",
              "        vertical-align: top;\n",
              "    }\n",
              "\n",
              "    .dataframe thead th {\n",
              "        text-align: right;\n",
              "    }\n",
              "</style>\n",
              "<table border=\"1\" class=\"dataframe\">\n",
              "  <thead>\n",
              "    <tr style=\"text-align: right;\">\n",
              "      <th></th>\n",
              "      <th>Any</th>\n",
              "      <th>Mes</th>\n",
              "      <th>Desc_Mes</th>\n",
              "      <th>Precipitacions</th>\n",
              "    </tr>\n",
              "  </thead>\n",
              "  <tbody>\n",
              "    <tr>\n",
              "      <th>2832</th>\n",
              "      <td>2022</td>\n",
              "      <td>1</td>\n",
              "      <td>Gener</td>\n",
              "      <td>12.3</td>\n",
              "    </tr>\n",
              "    <tr>\n",
              "      <th>2833</th>\n",
              "      <td>2022</td>\n",
              "      <td>2</td>\n",
              "      <td>Febrer</td>\n",
              "      <td>1.9</td>\n",
              "    </tr>\n",
              "    <tr>\n",
              "      <th>2834</th>\n",
              "      <td>2022</td>\n",
              "      <td>3</td>\n",
              "      <td>Març</td>\n",
              "      <td>89.5</td>\n",
              "    </tr>\n",
              "    <tr>\n",
              "      <th>2835</th>\n",
              "      <td>2022</td>\n",
              "      <td>4</td>\n",
              "      <td>Abril</td>\n",
              "      <td>38.9</td>\n",
              "    </tr>\n",
              "    <tr>\n",
              "      <th>2836</th>\n",
              "      <td>2022</td>\n",
              "      <td>5</td>\n",
              "      <td>Maig</td>\n",
              "      <td>20.0</td>\n",
              "    </tr>\n",
              "  </tbody>\n",
              "</table>\n",
              "</div>"
            ],
            "text/plain": [
              "       Any  Mes Desc_Mes  Precipitacions\n",
              "2832  2022    1    Gener            12.3\n",
              "2833  2022    2   Febrer             1.9\n",
              "2834  2022    3     Març            89.5\n",
              "2835  2022    4    Abril            38.9\n",
              "2836  2022    5     Maig            20.0"
            ]
          },
          "execution_count": 47,
          "metadata": {},
          "output_type": "execute_result"
        }
      ],
      "source": [
        "# Filter the dataset to keep only the desired years\n",
        "years_to_keep = [2022]\n",
        "dataset_rain = dataset_rain[dataset_rain['Any'].isin(years_to_keep)]\n",
        "\n",
        "# Display the first few rows of the filtered dataset\n",
        "dataset_rain.head()"
      ]
    },
    {
      "cell_type": "code",
      "execution_count": 48,
      "metadata": {},
      "outputs": [
        {
          "data": {
            "text/html": [
              "<div>\n",
              "<style scoped>\n",
              "    .dataframe tbody tr th:only-of-type {\n",
              "        vertical-align: middle;\n",
              "    }\n",
              "\n",
              "    .dataframe tbody tr th {\n",
              "        vertical-align: top;\n",
              "    }\n",
              "\n",
              "    .dataframe thead th {\n",
              "        text-align: right;\n",
              "    }\n",
              "</style>\n",
              "<table border=\"1\" class=\"dataframe\">\n",
              "  <thead>\n",
              "    <tr style=\"text-align: right;\">\n",
              "      <th></th>\n",
              "      <th>ID</th>\n",
              "      <th>Diameter (mm)</th>\n",
              "      <th>Use</th>\n",
              "      <th>Type of economic activity</th>\n",
              "      <th>Date</th>\n",
              "      <th>Time</th>\n",
              "      <th>Consumption (L/h)</th>\n",
              "      <th>Day time</th>\n",
              "      <th>Season</th>\n",
              "      <th>Day of Week</th>\n",
              "      <th>Month</th>\n",
              "      <th>Year</th>\n",
              "      <th>Precipitations</th>\n",
              "    </tr>\n",
              "  </thead>\n",
              "  <tbody>\n",
              "    <tr>\n",
              "      <th>0</th>\n",
              "      <td>d6820111d10fcde14bf3fb393cc188d5c684b073797453...</td>\n",
              "      <td>15</td>\n",
              "      <td>Domèstic/Doméstico/Domestic</td>\n",
              "      <td>&lt;NULL&gt;/ &lt;NULL&gt;/ &lt;NULL&gt;</td>\n",
              "      <td>2022-01-22</td>\n",
              "      <td>01:16:35</td>\n",
              "      <td>0.0</td>\n",
              "      <td>Night</td>\n",
              "      <td>Winter</td>\n",
              "      <td>Saturday</td>\n",
              "      <td>1</td>\n",
              "      <td>2022</td>\n",
              "      <td>12.3</td>\n",
              "    </tr>\n",
              "    <tr>\n",
              "      <th>1</th>\n",
              "      <td>d6820111d10fcde14bf3fb393cc188d5c684b073797453...</td>\n",
              "      <td>15</td>\n",
              "      <td>Domèstic/Doméstico/Domestic</td>\n",
              "      <td>&lt;NULL&gt;/ &lt;NULL&gt;/ &lt;NULL&gt;</td>\n",
              "      <td>2022-01-22</td>\n",
              "      <td>02:16:35</td>\n",
              "      <td>0.0</td>\n",
              "      <td>Night</td>\n",
              "      <td>Winter</td>\n",
              "      <td>Saturday</td>\n",
              "      <td>1</td>\n",
              "      <td>2022</td>\n",
              "      <td>12.3</td>\n",
              "    </tr>\n",
              "    <tr>\n",
              "      <th>2</th>\n",
              "      <td>d6820111d10fcde14bf3fb393cc188d5c684b073797453...</td>\n",
              "      <td>15</td>\n",
              "      <td>Domèstic/Doméstico/Domestic</td>\n",
              "      <td>&lt;NULL&gt;/ &lt;NULL&gt;/ &lt;NULL&gt;</td>\n",
              "      <td>2022-01-22</td>\n",
              "      <td>03:16:35</td>\n",
              "      <td>0.0</td>\n",
              "      <td>Night</td>\n",
              "      <td>Winter</td>\n",
              "      <td>Saturday</td>\n",
              "      <td>1</td>\n",
              "      <td>2022</td>\n",
              "      <td>12.3</td>\n",
              "    </tr>\n",
              "    <tr>\n",
              "      <th>3</th>\n",
              "      <td>d6820111d10fcde14bf3fb393cc188d5c684b073797453...</td>\n",
              "      <td>15</td>\n",
              "      <td>Domèstic/Doméstico/Domestic</td>\n",
              "      <td>&lt;NULL&gt;/ &lt;NULL&gt;/ &lt;NULL&gt;</td>\n",
              "      <td>2022-01-22</td>\n",
              "      <td>04:16:35</td>\n",
              "      <td>0.0</td>\n",
              "      <td>Night</td>\n",
              "      <td>Winter</td>\n",
              "      <td>Saturday</td>\n",
              "      <td>1</td>\n",
              "      <td>2022</td>\n",
              "      <td>12.3</td>\n",
              "    </tr>\n",
              "    <tr>\n",
              "      <th>4</th>\n",
              "      <td>d6820111d10fcde14bf3fb393cc188d5c684b073797453...</td>\n",
              "      <td>15</td>\n",
              "      <td>Domèstic/Doméstico/Domestic</td>\n",
              "      <td>&lt;NULL&gt;/ &lt;NULL&gt;/ &lt;NULL&gt;</td>\n",
              "      <td>2022-01-22</td>\n",
              "      <td>05:16:35</td>\n",
              "      <td>0.0</td>\n",
              "      <td>Night</td>\n",
              "      <td>Winter</td>\n",
              "      <td>Saturday</td>\n",
              "      <td>1</td>\n",
              "      <td>2022</td>\n",
              "      <td>12.3</td>\n",
              "    </tr>\n",
              "  </tbody>\n",
              "</table>\n",
              "</div>"
            ],
            "text/plain": [
              "                                                  ID  Diameter (mm)  \\\n",
              "0  d6820111d10fcde14bf3fb393cc188d5c684b073797453...             15   \n",
              "1  d6820111d10fcde14bf3fb393cc188d5c684b073797453...             15   \n",
              "2  d6820111d10fcde14bf3fb393cc188d5c684b073797453...             15   \n",
              "3  d6820111d10fcde14bf3fb393cc188d5c684b073797453...             15   \n",
              "4  d6820111d10fcde14bf3fb393cc188d5c684b073797453...             15   \n",
              "\n",
              "                           Use Type of economic activity       Date      Time  \\\n",
              "0  Domèstic/Doméstico/Domestic    <NULL>/ <NULL>/ <NULL> 2022-01-22  01:16:35   \n",
              "1  Domèstic/Doméstico/Domestic    <NULL>/ <NULL>/ <NULL> 2022-01-22  02:16:35   \n",
              "2  Domèstic/Doméstico/Domestic    <NULL>/ <NULL>/ <NULL> 2022-01-22  03:16:35   \n",
              "3  Domèstic/Doméstico/Domestic    <NULL>/ <NULL>/ <NULL> 2022-01-22  04:16:35   \n",
              "4  Domèstic/Doméstico/Domestic    <NULL>/ <NULL>/ <NULL> 2022-01-22  05:16:35   \n",
              "\n",
              "   Consumption (L/h) Day time  Season Day of Week  Month  Year  Precipitations  \n",
              "0                0.0    Night  Winter    Saturday      1  2022            12.3  \n",
              "1                0.0    Night  Winter    Saturday      1  2022            12.3  \n",
              "2                0.0    Night  Winter    Saturday      1  2022            12.3  \n",
              "3                0.0    Night  Winter    Saturday      1  2022            12.3  \n",
              "4                0.0    Night  Winter    Saturday      1  2022            12.3  "
            ]
          },
          "execution_count": 48,
          "metadata": {},
          "output_type": "execute_result"
        }
      ],
      "source": [
        "def map_to_precipitation(dataset_filtered, dataset_rain):\n",
        "\n",
        "    # Merge datasets on 'Year' and 'Month'\n",
        "    merged_data = pd.merge(dataset_filtered, dataset_rain, left_on=['Year', 'Month'], right_on=['Any', 'Mes'], how='left')\n",
        "\n",
        "    # Drop unnecessary columns from the merged dataset\n",
        "    merged_data.drop(['Any', 'Mes', 'Desc_Mes'], axis=1, inplace=True)\n",
        "\n",
        "    return merged_data\n",
        "\n",
        "dataset2_filtered = map_to_precipitation(dataset2_filtered, dataset_rain)\n",
        "dataset2_filtered.rename(columns = {'Precipitacions': 'Precipitations'}, inplace=True)\n",
        "dataset2_filtered.head()"
      ]
    },
    {
      "cell_type": "code",
      "execution_count": 49,
      "metadata": {},
      "outputs": [
        {
          "data": {
            "text/html": [
              "<div>\n",
              "<style scoped>\n",
              "    .dataframe tbody tr th:only-of-type {\n",
              "        vertical-align: middle;\n",
              "    }\n",
              "\n",
              "    .dataframe tbody tr th {\n",
              "        vertical-align: top;\n",
              "    }\n",
              "\n",
              "    .dataframe thead th {\n",
              "        text-align: right;\n",
              "    }\n",
              "</style>\n",
              "<table border=\"1\" class=\"dataframe\">\n",
              "  <thead>\n",
              "    <tr style=\"text-align: right;\">\n",
              "      <th></th>\n",
              "      <th>Any</th>\n",
              "      <th>Mes</th>\n",
              "      <th>Desc_Mes</th>\n",
              "      <th>Temperatura</th>\n",
              "    </tr>\n",
              "  </thead>\n",
              "  <tbody>\n",
              "    <tr>\n",
              "      <th>0</th>\n",
              "      <td>1780</td>\n",
              "      <td>1</td>\n",
              "      <td>Gener</td>\n",
              "      <td>6.7</td>\n",
              "    </tr>\n",
              "    <tr>\n",
              "      <th>1</th>\n",
              "      <td>1780</td>\n",
              "      <td>2</td>\n",
              "      <td>Febrer</td>\n",
              "      <td>7.3</td>\n",
              "    </tr>\n",
              "    <tr>\n",
              "      <th>2</th>\n",
              "      <td>1780</td>\n",
              "      <td>3</td>\n",
              "      <td>Març</td>\n",
              "      <td>11.6</td>\n",
              "    </tr>\n",
              "    <tr>\n",
              "      <th>3</th>\n",
              "      <td>1780</td>\n",
              "      <td>4</td>\n",
              "      <td>Abril</td>\n",
              "      <td>11.4</td>\n",
              "    </tr>\n",
              "    <tr>\n",
              "      <th>4</th>\n",
              "      <td>1780</td>\n",
              "      <td>5</td>\n",
              "      <td>Maig</td>\n",
              "      <td>16.3</td>\n",
              "    </tr>\n",
              "  </tbody>\n",
              "</table>\n",
              "</div>"
            ],
            "text/plain": [
              "    Any  Mes Desc_Mes  Temperatura\n",
              "0  1780    1    Gener          6.7\n",
              "1  1780    2   Febrer          7.3\n",
              "2  1780    3     Març         11.6\n",
              "3  1780    4    Abril         11.4\n",
              "4  1780    5     Maig         16.3"
            ]
          },
          "execution_count": 49,
          "metadata": {},
          "output_type": "execute_result"
        }
      ],
      "source": [
        "# Change your path of the data if necessary\n",
        "dataset_temp = 'C:/Users/edith/Desktop/TFG/Datasets/OpenDataBCN/temperaturesbcndesde1780_2023_long.csv'\n",
        "dataset_temp = pd.read_csv(dataset_temp)\n",
        "dataset_temp.head()"
      ]
    },
    {
      "cell_type": "code",
      "execution_count": 50,
      "metadata": {},
      "outputs": [
        {
          "data": {
            "text/html": [
              "<div>\n",
              "<style scoped>\n",
              "    .dataframe tbody tr th:only-of-type {\n",
              "        vertical-align: middle;\n",
              "    }\n",
              "\n",
              "    .dataframe tbody tr th {\n",
              "        vertical-align: top;\n",
              "    }\n",
              "\n",
              "    .dataframe thead th {\n",
              "        text-align: right;\n",
              "    }\n",
              "</style>\n",
              "<table border=\"1\" class=\"dataframe\">\n",
              "  <thead>\n",
              "    <tr style=\"text-align: right;\">\n",
              "      <th></th>\n",
              "      <th>Any</th>\n",
              "      <th>Mes</th>\n",
              "      <th>Desc_Mes</th>\n",
              "      <th>Temperatura</th>\n",
              "    </tr>\n",
              "  </thead>\n",
              "  <tbody>\n",
              "    <tr>\n",
              "      <th>2904</th>\n",
              "      <td>2022</td>\n",
              "      <td>1</td>\n",
              "      <td>Gener</td>\n",
              "      <td>10.2</td>\n",
              "    </tr>\n",
              "    <tr>\n",
              "      <th>2905</th>\n",
              "      <td>2022</td>\n",
              "      <td>2</td>\n",
              "      <td>Febrer</td>\n",
              "      <td>11.8</td>\n",
              "    </tr>\n",
              "    <tr>\n",
              "      <th>2906</th>\n",
              "      <td>2022</td>\n",
              "      <td>3</td>\n",
              "      <td>Març</td>\n",
              "      <td>10.8</td>\n",
              "    </tr>\n",
              "    <tr>\n",
              "      <th>2907</th>\n",
              "      <td>2022</td>\n",
              "      <td>4</td>\n",
              "      <td>Abril</td>\n",
              "      <td>14.1</td>\n",
              "    </tr>\n",
              "    <tr>\n",
              "      <th>2908</th>\n",
              "      <td>2022</td>\n",
              "      <td>5</td>\n",
              "      <td>Maig</td>\n",
              "      <td>20.7</td>\n",
              "    </tr>\n",
              "  </tbody>\n",
              "</table>\n",
              "</div>"
            ],
            "text/plain": [
              "       Any  Mes Desc_Mes  Temperatura\n",
              "2904  2022    1    Gener         10.2\n",
              "2905  2022    2   Febrer         11.8\n",
              "2906  2022    3     Març         10.8\n",
              "2907  2022    4    Abril         14.1\n",
              "2908  2022    5     Maig         20.7"
            ]
          },
          "execution_count": 50,
          "metadata": {},
          "output_type": "execute_result"
        }
      ],
      "source": [
        "# Filter the dataset to keep only the desired years\n",
        "years_to_keep = [2022]\n",
        "dataset_temp = dataset_temp[dataset_temp['Any'].isin(years_to_keep)]\n",
        "\n",
        "# Display the first few rows of the filtered dataset\n",
        "dataset_temp.head()"
      ]
    },
    {
      "cell_type": "code",
      "execution_count": 51,
      "metadata": {},
      "outputs": [
        {
          "data": {
            "text/html": [
              "<div>\n",
              "<style scoped>\n",
              "    .dataframe tbody tr th:only-of-type {\n",
              "        vertical-align: middle;\n",
              "    }\n",
              "\n",
              "    .dataframe tbody tr th {\n",
              "        vertical-align: top;\n",
              "    }\n",
              "\n",
              "    .dataframe thead th {\n",
              "        text-align: right;\n",
              "    }\n",
              "</style>\n",
              "<table border=\"1\" class=\"dataframe\">\n",
              "  <thead>\n",
              "    <tr style=\"text-align: right;\">\n",
              "      <th></th>\n",
              "      <th>ID</th>\n",
              "      <th>Diameter (mm)</th>\n",
              "      <th>Use</th>\n",
              "      <th>Type of economic activity</th>\n",
              "      <th>Date</th>\n",
              "      <th>Time</th>\n",
              "      <th>Consumption (L/h)</th>\n",
              "      <th>Day time</th>\n",
              "      <th>Season</th>\n",
              "      <th>Day of Week</th>\n",
              "      <th>Month</th>\n",
              "      <th>Year</th>\n",
              "      <th>Precipitations</th>\n",
              "      <th>Temperature</th>\n",
              "    </tr>\n",
              "  </thead>\n",
              "  <tbody>\n",
              "    <tr>\n",
              "      <th>0</th>\n",
              "      <td>d6820111d10fcde14bf3fb393cc188d5c684b073797453...</td>\n",
              "      <td>15</td>\n",
              "      <td>Domèstic/Doméstico/Domestic</td>\n",
              "      <td>&lt;NULL&gt;/ &lt;NULL&gt;/ &lt;NULL&gt;</td>\n",
              "      <td>2022-01-22</td>\n",
              "      <td>01:16:35</td>\n",
              "      <td>0.0</td>\n",
              "      <td>Night</td>\n",
              "      <td>Winter</td>\n",
              "      <td>Saturday</td>\n",
              "      <td>1</td>\n",
              "      <td>2022</td>\n",
              "      <td>12.3</td>\n",
              "      <td>10.2</td>\n",
              "    </tr>\n",
              "    <tr>\n",
              "      <th>1</th>\n",
              "      <td>d6820111d10fcde14bf3fb393cc188d5c684b073797453...</td>\n",
              "      <td>15</td>\n",
              "      <td>Domèstic/Doméstico/Domestic</td>\n",
              "      <td>&lt;NULL&gt;/ &lt;NULL&gt;/ &lt;NULL&gt;</td>\n",
              "      <td>2022-01-22</td>\n",
              "      <td>02:16:35</td>\n",
              "      <td>0.0</td>\n",
              "      <td>Night</td>\n",
              "      <td>Winter</td>\n",
              "      <td>Saturday</td>\n",
              "      <td>1</td>\n",
              "      <td>2022</td>\n",
              "      <td>12.3</td>\n",
              "      <td>10.2</td>\n",
              "    </tr>\n",
              "    <tr>\n",
              "      <th>2</th>\n",
              "      <td>d6820111d10fcde14bf3fb393cc188d5c684b073797453...</td>\n",
              "      <td>15</td>\n",
              "      <td>Domèstic/Doméstico/Domestic</td>\n",
              "      <td>&lt;NULL&gt;/ &lt;NULL&gt;/ &lt;NULL&gt;</td>\n",
              "      <td>2022-01-22</td>\n",
              "      <td>03:16:35</td>\n",
              "      <td>0.0</td>\n",
              "      <td>Night</td>\n",
              "      <td>Winter</td>\n",
              "      <td>Saturday</td>\n",
              "      <td>1</td>\n",
              "      <td>2022</td>\n",
              "      <td>12.3</td>\n",
              "      <td>10.2</td>\n",
              "    </tr>\n",
              "    <tr>\n",
              "      <th>3</th>\n",
              "      <td>d6820111d10fcde14bf3fb393cc188d5c684b073797453...</td>\n",
              "      <td>15</td>\n",
              "      <td>Domèstic/Doméstico/Domestic</td>\n",
              "      <td>&lt;NULL&gt;/ &lt;NULL&gt;/ &lt;NULL&gt;</td>\n",
              "      <td>2022-01-22</td>\n",
              "      <td>04:16:35</td>\n",
              "      <td>0.0</td>\n",
              "      <td>Night</td>\n",
              "      <td>Winter</td>\n",
              "      <td>Saturday</td>\n",
              "      <td>1</td>\n",
              "      <td>2022</td>\n",
              "      <td>12.3</td>\n",
              "      <td>10.2</td>\n",
              "    </tr>\n",
              "    <tr>\n",
              "      <th>4</th>\n",
              "      <td>d6820111d10fcde14bf3fb393cc188d5c684b073797453...</td>\n",
              "      <td>15</td>\n",
              "      <td>Domèstic/Doméstico/Domestic</td>\n",
              "      <td>&lt;NULL&gt;/ &lt;NULL&gt;/ &lt;NULL&gt;</td>\n",
              "      <td>2022-01-22</td>\n",
              "      <td>05:16:35</td>\n",
              "      <td>0.0</td>\n",
              "      <td>Night</td>\n",
              "      <td>Winter</td>\n",
              "      <td>Saturday</td>\n",
              "      <td>1</td>\n",
              "      <td>2022</td>\n",
              "      <td>12.3</td>\n",
              "      <td>10.2</td>\n",
              "    </tr>\n",
              "  </tbody>\n",
              "</table>\n",
              "</div>"
            ],
            "text/plain": [
              "                                                  ID  Diameter (mm)  \\\n",
              "0  d6820111d10fcde14bf3fb393cc188d5c684b073797453...             15   \n",
              "1  d6820111d10fcde14bf3fb393cc188d5c684b073797453...             15   \n",
              "2  d6820111d10fcde14bf3fb393cc188d5c684b073797453...             15   \n",
              "3  d6820111d10fcde14bf3fb393cc188d5c684b073797453...             15   \n",
              "4  d6820111d10fcde14bf3fb393cc188d5c684b073797453...             15   \n",
              "\n",
              "                           Use Type of economic activity       Date      Time  \\\n",
              "0  Domèstic/Doméstico/Domestic    <NULL>/ <NULL>/ <NULL> 2022-01-22  01:16:35   \n",
              "1  Domèstic/Doméstico/Domestic    <NULL>/ <NULL>/ <NULL> 2022-01-22  02:16:35   \n",
              "2  Domèstic/Doméstico/Domestic    <NULL>/ <NULL>/ <NULL> 2022-01-22  03:16:35   \n",
              "3  Domèstic/Doméstico/Domestic    <NULL>/ <NULL>/ <NULL> 2022-01-22  04:16:35   \n",
              "4  Domèstic/Doméstico/Domestic    <NULL>/ <NULL>/ <NULL> 2022-01-22  05:16:35   \n",
              "\n",
              "   Consumption (L/h) Day time  Season Day of Week  Month  Year  \\\n",
              "0                0.0    Night  Winter    Saturday      1  2022   \n",
              "1                0.0    Night  Winter    Saturday      1  2022   \n",
              "2                0.0    Night  Winter    Saturday      1  2022   \n",
              "3                0.0    Night  Winter    Saturday      1  2022   \n",
              "4                0.0    Night  Winter    Saturday      1  2022   \n",
              "\n",
              "   Precipitations  Temperature  \n",
              "0            12.3         10.2  \n",
              "1            12.3         10.2  \n",
              "2            12.3         10.2  \n",
              "3            12.3         10.2  \n",
              "4            12.3         10.2  "
            ]
          },
          "execution_count": 51,
          "metadata": {},
          "output_type": "execute_result"
        }
      ],
      "source": [
        "def map_to_temperature(dataset_filtered, dataset_temp):\n",
        "\n",
        "    # Merge datasets on 'Year' and 'Month'\n",
        "    merged_data = pd.merge(dataset_filtered, dataset_temp, left_on=['Year', 'Month'], right_on=['Any', 'Mes'], how='left')\n",
        "\n",
        "    # Drop unnecessary columns from the merged dataset\n",
        "    merged_data.drop(['Any', 'Mes', 'Desc_Mes'], axis=1, inplace=True)\n",
        "\n",
        "    return merged_data\n",
        "\n",
        "dataset2_filtered = map_to_temperature(dataset2_filtered, dataset_temp)\n",
        "dataset2_filtered.rename(columns = {'Temperatura': 'Temperature'}, inplace=True)\n",
        "dataset2_filtered.head()"
      ]
    },
    {
      "cell_type": "markdown",
      "metadata": {
        "id": "AEIlR1X9W7sq"
      },
      "source": [
        "## 4. Data Prediction"
      ]
    },
    {
      "cell_type": "markdown",
      "metadata": {
        "id": "e5dJvRBYldLa"
      },
      "source": [
        "##### **4.1. Linear**"
      ]
    },
    {
      "cell_type": "markdown",
      "metadata": {},
      "source": [
        "In order to do the projection of incorrect values (negative and outliers) that right now happen to be null values in the dataset, we will implement several data prediction models, compare their results and conclude which gives the best results for our data."
      ]
    },
    {
      "cell_type": "markdown",
      "metadata": {},
      "source": [
        "We will now encode the variables that aren't numerical in order to work with them and plot a correlation matrix to see which features explain best our target variable, Accumulated Consumption (L/day)."
      ]
    },
    {
      "cell_type": "code",
      "execution_count": 52,
      "metadata": {
        "id": "HzDUs7ynN4u6"
      },
      "outputs": [],
      "source": [
        "# Convert \"Date\" column to object for label encoding\n",
        "dataset2_filtered['Date'] = dataset2_filtered['Date'].astype(object)\n",
        "dataset2_filtered['Time'] = dataset2_filtered['Time'].astype(object)"
      ]
    },
    {
      "cell_type": "code",
      "execution_count": 53,
      "metadata": {
        "id": "7MkC6TTLv-N2"
      },
      "outputs": [],
      "source": [
        "# Label Encoder\n",
        "\n",
        "# Initialize LabelEncoder\n",
        "label_encoder = LabelEncoder()\n",
        "\n",
        "# Apply LabelEncoder to each column containing categorical data\n",
        "for column in dataset2_filtered.columns:\n",
        "    if dataset2_filtered[column].dtype == 'object':\n",
        "        dataset2_filtered[column] = label_encoder.fit_transform(dataset2_filtered[column])"
      ]
    },
    {
      "cell_type": "code",
      "execution_count": 54,
      "metadata": {
        "colab": {
          "base_uri": "https://localhost:8080/",
          "height": 708
        },
        "id": "rfPMeV1EqzLQ",
        "outputId": "79faca5e-328a-421f-bf7d-105ff3f8be20"
      },
      "outputs": [
        {
          "data": {
            "image/png": "[encoded data removed]",
            "text/plain": [
              "<Figure size 1300x600 with 2 Axes>"
            ]
          },
          "metadata": {},
          "output_type": "display_data"
        }
      ],
      "source": [
        "dataset2_filtered_not_null = dataset2_filtered[~dataset2_filtered['Consumption (L/h)'].isnull()]\n",
        "corr = dataset2_filtered_not_null.corr()\n",
        "plt.figure(figsize=(13,6))\n",
        "heatmap = sns.heatmap(corr, vmin=-1, vmax=1, annot=True, cmap='coolwarm')\n",
        "heatmap.set_title('Correlation Heatmap', fontdict={'fontsize': 14})\n",
        "plt.show()"
      ]
    },
    {
      "cell_type": "code",
      "execution_count": 59,
      "metadata": {
        "colab": {
          "base_uri": "https://localhost:8080/"
        },
        "id": "U8Lm5licrcKu",
        "outputId": "b4388415-9cc1-43aa-9abb-b06adff72275"
      },
      "outputs": [
        {
          "name": "stdout",
          "output_type": "stream",
          "text": [
            "Lenght X_train: 1451254\n",
            "Length y_train: 1451254\n",
            "Lenght X_test: 362814\n",
            "Length y_test: 362814\n"
          ]
        }
      ],
      "source": [
        "# Model Training\n",
        "\n",
        "# We remove the null values in the consumption column to train the model\n",
        "dataset2_filtered2 = dataset2_filtered.dropna(subset=['Consumption (L/h)'])\n",
        "\n",
        "# Independent variables\n",
        "features = ['Use', 'Time', 'Season', 'Day of Week', 'Type of economic activity']\n",
        "\n",
        "X = dataset2_filtered2[features]\n",
        "\n",
        "# Target variable (dependent variable)\n",
        "y = dataset2_filtered2['Consumption (L/h)']\n",
        "\n",
        "# 80% training and 20% testing\n",
        "X_train, X_test, y_train, y_test = train_test_split(X, y, test_size=0.2, random_state=42)\n",
        "\n",
        "# We make sure that X and Y have the same length for both train and test\n",
        "print(\"Lenght X_train:\", len(X_train))\n",
        "print(\"Length y_train:\", len(y_train))\n",
        "print(\"Lenght X_test:\", len(X_test))\n",
        "print(\"Length y_test:\", len(y_test))"
      ]
    },
    {
      "cell_type": "markdown",
      "metadata": {},
      "source": [
        "##### **4.1. Linear Regression**"
      ]
    },
    {
      "cell_type": "code",
      "execution_count": null,
      "metadata": {
        "colab": {
          "base_uri": "https://localhost:8080/"
        },
        "id": "heIZVgkarlpZ",
        "outputId": "3d7acfeb-5828-4e5b-ea37-7c03437f0ce7"
      },
      "outputs": [],
      "source": [
        "# Linear Regression\n",
        "lr_model = LinearRegression()\n",
        "lr_model.fit(X_train, y_train)\n",
        "y_pred = lr_model.predict(X_test)\n",
        "\n",
        "# Evalute the model\n",
        "mse_lr = mean_squared_error(y_test, y_pred)\n",
        "mae_lr = mean_absolute_error(y_test, y_pred)\n",
        "r2_lr = r2_score(y_test, y_pred)\n",
        "\n",
        "print(f\"Linear Regression Mean Squared Error (MSE): {round(np.sqrt(mse_lr), 4)}\")\n",
        "print(f\"Linear Regression Mean Absolute Error (MAE): {round(mae_lr, 4)}\")\n",
        "print(f\"Linear Regression R-squared (R2): {round(r2_lr, 4)}\")"
      ]
    },
    {
      "cell_type": "markdown",
      "metadata": {
        "id": "eFDDjeWYljmO"
      },
      "source": [
        "##### **4.2. Random Forest**"
      ]
    },
    {
      "cell_type": "code",
      "execution_count": null,
      "metadata": {
        "colab": {
          "base_uri": "https://localhost:8080/"
        },
        "id": "5838BhBlqz_N",
        "outputId": "078cba66-78ec-43ea-d294-8530510cfcfe"
      },
      "outputs": [],
      "source": [
        "# Random Forest\n",
        "rf_model = RandomForestRegressor(random_state=42)\n",
        "rf_model.fit(X_train, y_train)\n",
        "y_pred_rf = rf_model.predict(X_test)\n",
        "\n",
        "# Evaluate the model\n",
        "mse_rf = mean_squared_error(y_test, y_pred_rf)\n",
        "mae_rf = mean_absolute_error(y_test, y_pred_rf)\n",
        "r2_rf = r2_score(y_test, y_pred_rf)\n",
        "\n",
        "print(f\"Random Forest Mean Squared Error (MSE):\", round(np.sqrt(mse_rf), 4))\n",
        "print(f\"Random Forest Mean Absolute Error (MAE): {round(mae_rf, 4)}\")\n",
        "print(f\"Random Forest R-squared (R2):\", round(r2_rf, 4))"
      ]
    },
    {
      "cell_type": "markdown",
      "metadata": {
        "id": "KWnhy2VAlmHn"
      },
      "source": [
        "##### **4.3. XGBoost**"
      ]
    },
    {
      "cell_type": "code",
      "execution_count": 60,
      "metadata": {
        "colab": {
          "base_uri": "https://localhost:8080/"
        },
        "id": "cofgwaDbq0nr",
        "outputId": "2604dbe6-cfac-453c-bcac-0abeeaf526b0"
      },
      "outputs": [
        {
          "name": "stdout",
          "output_type": "stream",
          "text": [
            "XGBoost Mean Squared Error (MSE): 5.6259\n",
            "XGBoost Mean Absolute Error (MAE): 3.7538\n",
            "XGBoost R-squared (R2): 0.2613\n"
          ]
        }
      ],
      "source": [
        "# XGBoost\n",
        "xgb_model = xgb.XGBRegressor(random_state=42)\n",
        "xgb_model.fit(X_train, y_train)\n",
        "y_pred_xgb = xgb_model.predict(X_test)\n",
        "\n",
        "# Evaluate the model\n",
        "mse_xgb = mean_squared_error(y_test, y_pred_xgb)\n",
        "mae_xgb = mean_absolute_error(y_test, y_pred_xgb)\n",
        "r2_xgb = r2_score(y_test, y_pred_xgb)\n",
        "\n",
        "print(f\"XGBoost Mean Squared Error (MSE):\", round(np.sqrt(mse_xgb), 4))\n",
        "print(f\"XGBoost Mean Absolute Error (MAE): {round(mae_xgb, 4)}\")\n",
        "print(f\"XGBoost R-squared (R2):\", round(r2_xgb, 4))"
      ]
    },
    {
      "cell_type": "markdown",
      "metadata": {
        "id": "Pu28uQbfloTu"
      },
      "source": [
        "##### **4.4. K-Nearest Neighbors**"
      ]
    },
    {
      "cell_type": "code",
      "execution_count": 61,
      "metadata": {},
      "outputs": [
        {
          "data": {
            "image/png": "[encoded data removed]",
            "text/plain": [
              "<Figure size 1000x600 with 1 Axes>"
            ]
          },
          "metadata": {},
          "output_type": "display_data"
        },
        {
          "name": "stdout",
          "output_type": "stream",
          "text": [
            "The best k value is: 9\n"
          ]
        }
      ],
      "source": [
        "# Range of k values to test\n",
        "k_values = range(1, 10)\n",
        "mse_values = []\n",
        "\n",
        "# Evaluation of the model for each k value\n",
        "for k in k_values:\n",
        "    knn_model = KNeighborsRegressor(n_neighbors=k)\n",
        "    knn_model.fit(X_train, y_train)\n",
        "    y_pred_knn = knn_model.predict(X_test)\n",
        "    mse = mean_squared_error(y_test, y_pred_knn)\n",
        "    mse_values.append(mse)\n",
        "\n",
        "# Plot error rates vs k values\n",
        "plt.figure(figsize=(10, 6))\n",
        "plt.plot(k_values, mse_values, marker='o', linestyle='dashed', color='b')\n",
        "plt.xlabel('Number of Neighbors K', fontsize=10)\n",
        "plt.ylabel('Mean Squared Error (MSE)', fontsize=10)\n",
        "plt.title('Error Rate vs. K Value', fontsize=12)\n",
        "plt.xticks(k_values)\n",
        "plt.grid(True)\n",
        "plt.show()\n",
        "\n",
        "# k value with the minimum error rate\n",
        "best_k = k_values[np.argmin(mse_values)]\n",
        "print(f\"The best k value is: {best_k}\")"
      ]
    },
    {
      "cell_type": "code",
      "execution_count": 62,
      "metadata": {},
      "outputs": [
        {
          "name": "stdout",
          "output_type": "stream",
          "text": [
            "K-Nearest Neighbors Mean Squared Error (MSE): 6.232\n",
            "K-Nearest Neighbors Mean Absolute Error (MAE): 4.0528\n",
            "K-Nearest Neighbors R-squared (R2): 0.0935\n"
          ]
        }
      ],
      "source": [
        "# K-Nearest Neighbors\n",
        "knn_model = KNeighborsRegressor(n_neighbors=9)\n",
        "knn_model.fit(X_train, y_train)\n",
        "y_pred_knn = knn_model.predict(X_test)\n",
        "\n",
        "# Evaluate the model\n",
        "mse_knn = mean_squared_error(y_test, y_pred_knn)\n",
        "mae_knn = mean_absolute_error(y_test, y_pred_knn)\n",
        "r2_knn = r2_score(y_test, y_pred_knn)\n",
        "\n",
        "print(f\"K-Nearest Neighbors Mean Squared Error (MSE):\", round(np.sqrt(mse_knn), 4))\n",
        "print(f\"K-Nearest Neighbors Mean Absolute Error (MAE): {round(mae_knn, 4)}\")\n",
        "print(f\"K-Nearest Neighbors R-squared (R2):\", round(r2_knn, 4))"
      ]
    },
    {
      "cell_type": "markdown",
      "metadata": {},
      "source": [
        "##### **4.5. Support Vector Machine**"
      ]
    },
    {
      "cell_type": "code",
      "execution_count": null,
      "metadata": {},
      "outputs": [],
      "source": [
        "# Model Training\n",
        "\n",
        "# We remove the null values in the consumption column to train the model\n",
        "dataset2_filtered2 = dataset2_filtered.dropna(subset=['Consumption (L/h)'])\n",
        "\n",
        "# Reduce the working dataset\n",
        "rows = len(dataset2_filtered2) // 10\n",
        "dataset2_filtered2 = dataset2_filtered2.iloc[:rows]\n",
        "\n",
        "# Independent variables\n",
        "features = ['Use', 'Time', 'Season', 'Day of Week', 'Type of economic activity']\n",
        "X = dataset2_filtered2[features]\n",
        "\n",
        "# Target variable (dependent variable)\n",
        "y = dataset2_filtered2['Consumption (L/h)']\n",
        "\n",
        "# 80% training and 20% testing\n",
        "X_train, X_test, y_train, y_test = train_test_split(X, y, test_size=0.2, random_state=42)\n",
        "\n",
        "# We make sure that X and Y have the same length for both train and test\n",
        "print(\"Lenght X_train:\", len(X_train))\n",
        "print(\"Length y_train:\", len(y_train))\n",
        "print(\"Lenght X_test:\", len(X_test))\n",
        "print(\"Length y_test:\", len(y_test))"
      ]
    },
    {
      "cell_type": "code",
      "execution_count": null,
      "metadata": {},
      "outputs": [],
      "source": [
        "# Support Vector Machine\n",
        "svm_model = SVR()\n",
        "svm_model.fit(X_train, y_train)\n",
        "y_pred_svm = svm_model.predict(X_test)\n",
        "\n",
        "# Evaluate the model\n",
        "mse_svm = mean_squared_error(y_test, y_pred_svm)\n",
        "mae_svm = mean_absolute_error(y_test, y_pred_svm)\n",
        "r2_svm = r2_score(y_test, y_pred_svm)\n",
        "\n",
        "print(f\"Support Vector Machine Mean Squared Error (MSE):\", round(np.sqrt(mse_svm), 4))\n",
        "print(f\"Support Vector Machine Mean Absolute Error (MAE): {round(mae_svm, 4)}\")\n",
        "print(f\"Support Vector Machine R-squared (R2):\", round(r2_svm, 4))"
      ]
    },
    {
      "cell_type": "markdown",
      "metadata": {
        "id": "TJ-0bkCflrbq"
      },
      "source": [
        "##### **4.6. Conclusions on Data Prediction Algorithms**"
      ]
    },
    {
      "cell_type": "markdown",
      "metadata": {},
      "source": [
        "Based on the R-squared values obtained per each model I conclude that 0.2791 is the least worse model for dataset1_v2.csv data. It is considered a good model if the R-squared value is higher than 0.9, therefore non of the aboce are good models. Anyway, we will replace the missing values with the predictions of this model. We have already trained model so now we replace all null values."
      ]
    },
    {
      "cell_type": "code",
      "execution_count": null,
      "metadata": {
        "id": "cqk-P32Pq1YI"
      },
      "outputs": [],
      "source": [
        "# Identifiquem les files amb valor Null en 'Consumption (L/h)'\n",
        "missing_rows = dataset2_filtered[dataset2_filtered['Consumption (L/h)'].isnull()]\n",
        "\n",
        "features2 = ['Use', 'Time', 'Temperature', 'Precipitations', 'Season', 'Day of Week', 'Diameter (mm)', 'Type of economic activity', 'Date']\n",
        "X_ = missing_rows[features2]\n",
        "\n",
        "# Predim els valors amb el model\n",
        "predicted_values = xgb_model.predict(X_)\n",
        "\n",
        "dataset2_filtered.loc[missing_rows.index, 'Consumption (L/h)'] = predicted_values"
      ]
    },
    {
      "cell_type": "markdown",
      "metadata": {},
      "source": [
        "We now check that no null values nor negatives are in the dataset."
      ]
    },
    {
      "cell_type": "code",
      "execution_count": null,
      "metadata": {},
      "outputs": [],
      "source": [
        "# Number of null values in Consumption (L/h)\n",
        "print(\"Number of Nulls in the dataset:\", dataset2_filtered['Consumption (L/h)'].isnull().sum())\n",
        "\n",
        "# Number of negatives values in Consumption (L/h)\n",
        "print(\"Number of Negatives in the dataset:\", len(dataset2_filtered[dataset2_filtered['Consumption (L/h)'] < 0]))"
      ]
    },
    {
      "cell_type": "markdown",
      "metadata": {},
      "source": [
        "Lets visualize the Consumption after having cleaned and projected the incorrect values."
      ]
    },
    {
      "cell_type": "code",
      "execution_count": null,
      "metadata": {},
      "outputs": [],
      "source": [
        "# PLOTS"
      ]
    },
    {
      "cell_type": "markdown",
      "metadata": {
        "id": "eKJ-8KlVl26Q"
      },
      "source": [
        "## 5. Analysis of anomalies"
      ]
    },
    {
      "cell_type": "markdown",
      "metadata": {
        "id": "nIDgl20rl8r1"
      },
      "source": [
        "##### **5.1. Classification Criteria**"
      ]
    },
    {
      "cell_type": "markdown",
      "metadata": {},
      "source": [
        "Previously, we stored all anomalies for later analysis. We are now going to state a classification criteria in order to classify said anomalies into 3 categories: leak or waste, system error or correct but misclassified.\n",
        "This classification is based on the average of the correct real data, I'm not using the predicted one by the models but it might not be very accurate. This should be done with specific data portraying leaks, waste and system errors."
      ]
    },
    {
      "cell_type": "code",
      "execution_count": null,
      "metadata": {
        "id": "2E3JcSoPmGXp"
      },
      "outputs": [],
      "source": [
        "# Count of Outliers and Negative values\n",
        "outliers_count = (anomalies['Consumption (L/h)'] > 0).sum()\n",
        "negative_count = (anomalies['Consumption (L/h)'] < 0).sum()\n",
        "\n",
        "total_count = len(anomalies)\n",
        "outliers_percentage = (outliers_count / total_count) * 100\n",
        "negative_percentage = (negative_count / total_count) * 100\n",
        "\n",
        "labels = ['Outliers', 'Negative Consumption']\n",
        "sizes = [outliers_percentage, negative_percentage]\n",
        "colors = ['cornflowerblue', 'lightskyblue']\n",
        "\n",
        "# Plotting the pie chart\n",
        "plt.figure(figsize=(8, 6))\n",
        "plt.pie(sizes, labels=labels, colors=colors, autopct='%1.1f%%', startangle=140)\n",
        "plt.title('Percentage of Outliers and Negative Consumption')\n",
        "plt.axis('equal')\n",
        "plt.show()"
      ]
    },
    {
      "cell_type": "markdown",
      "metadata": {},
      "source": [
        "Now we compute the minimum, average and maximum values per type of Use so we can classify each values accordingly."
      ]
    },
    {
      "cell_type": "code",
      "execution_count": null,
      "metadata": {},
      "outputs": [],
      "source": [
        "# For each type of Use we can compute the min, average and max values\n",
        "grouped_data = clean_data.groupby('Use')['Consumption (L/h)'].agg(['min', 'mean', 'max'])\n",
        "\n",
        "# Accessing min, average, and max values for a specific 'Use' type\n",
        "use_type = 'Domèstic/Doméstico/Domestic'\n",
        "domestic_min = grouped_data.loc[use_type, 'min']\n",
        "domestic_average = grouped_data.loc[use_type, 'mean']\n",
        "domestic_max = grouped_data.loc[use_type, 'max']\n",
        "\n",
        "use_type = 'Comercial/Comercial/Commercial'\n",
        "commercial_min = grouped_data.loc[use_type, 'min']\n",
        "commercial_average = grouped_data.loc[use_type, 'mean']\n",
        "commercial_max = grouped_data.loc[use_type, 'max']\n",
        "\n",
        "use_type = 'Industrial/Industrial/Industrial'\n",
        "industrial_min = grouped_data.loc[use_type, 'min']\n",
        "industrial_average = grouped_data.loc[use_type, 'mean']\n",
        "industrial_max = grouped_data.loc[use_type, 'max']\n",
        "\n",
        "grouped_data"
      ]
    },
    {
      "cell_type": "markdown",
      "metadata": {
        "id": "wqdlfcvbmCBZ"
      },
      "source": [
        "##### **5.2. Anomalies classification**"
      ]
    },
    {
      "cell_type": "markdown",
      "metadata": {},
      "source": [
        "The following function gets the anomalies dataset and depending on the type of Use applies a classification. I considered consumption values over the maximum value to be of type 'Leak or Waste'. If the consumption is negative then I consider this a 'Data Collection System Error' and in case of not belonging in any of these two groups then the value would be 'Correct but Misclassified'."
      ]
    },
    {
      "cell_type": "code",
      "execution_count": null,
      "metadata": {},
      "outputs": [],
      "source": [
        "def anomalies_classification(dataset_anomalies):\n",
        "    if dataset_anomalies['Use'] == 'Domèstic/Doméstico/Domestic':\n",
        "        if dataset_anomalies['Consumption (L/h)'] > domestic_max:\n",
        "            return 'Leak or Waste'\n",
        "        elif dataset_anomalies['Consumption (L/h)'] < 0:\n",
        "            return 'Data Collection System Error'\n",
        "        else:\n",
        "            return 'Correct but Misclassified'\n",
        "        \n",
        "    elif dataset_anomalies['Use'] == 'Comercial/Comercial/Commercial':\n",
        "        if dataset_anomalies['Consumption (L/h)'] > commercial_max:\n",
        "            return 'Leak or Waste'\n",
        "        elif dataset_anomalies['Consumption (L/h)'] < 0:\n",
        "            return 'Data Collection System Error'\n",
        "        else:\n",
        "            return 'Correct but Misclassified'\n",
        "        \n",
        "    elif dataset_anomalies['Use'] == 'Industrial/Industrial/Industrial':\n",
        "        if dataset_anomalies['Consumption (L/h)'] > industrial_max:\n",
        "            return 'Leak or Waste'\n",
        "        elif dataset_anomalies['Consumption (L/h)'] < 0:\n",
        "            return 'Data Collection System Error'\n",
        "        else:\n",
        "            return 'Correct but Misclassified'\n",
        "    \n",
        "\n",
        "anomalies['Classification'] = anomalies.apply(anomalies_classification, axis=1)\n",
        "anomalies.head()"
      ]
    },
    {
      "cell_type": "markdown",
      "metadata": {},
      "source": [
        "Now we can visualize the new classification in total and per type of Use."
      ]
    },
    {
      "cell_type": "code",
      "execution_count": null,
      "metadata": {},
      "outputs": [],
      "source": [
        "# Count occurrences of each classification\n",
        "classification_counts = anomalies['Classification'].value_counts()\n",
        "labels = classification_counts.index\n",
        "sizes = classification_counts.values\n",
        "colors = ['lightskyblue', 'blue', 'cornflowerblue']\n",
        "\n",
        "# Plotting the pie chart\n",
        "plt.figure(figsize=(8, 6))\n",
        "plt.pie(sizes, labels=labels, colors=colors, autopct='%1.1f%%', startangle=140)\n",
        "plt.title('Total Percentage of Each Anomaly Classification')\n",
        "plt.axis('equal')\n",
        "plt.show()"
      ]
    },
    {
      "cell_type": "code",
      "execution_count": null,
      "metadata": {},
      "outputs": [],
      "source": [
        "# Filter the DataFrame\n",
        "domestic_anomalies = anomalies[anomalies['Use'] == 'Domèstic/Doméstico/Domestic']\n",
        "\n",
        "# Count occurrences of each classification\n",
        "classification_counts = domestic_anomalies['Classification'].value_counts()\n",
        "labels = classification_counts.index\n",
        "sizes = classification_counts.values\n",
        "colors = ['lightskyblue', 'blue', 'cornflowerblue'] \n",
        "\n",
        "# Plotting the pie chart\n",
        "plt.figure(figsize=(8, 6))\n",
        "plt.pie(sizes, labels=labels, colors=colors, autopct='%1.1f%%', startangle=140)\n",
        "plt.title('Percentage of Each Anomaly Classification for Domestic Use')\n",
        "plt.axis('equal')\n",
        "plt.show()"
      ]
    },
    {
      "cell_type": "code",
      "execution_count": null,
      "metadata": {},
      "outputs": [],
      "source": [
        "# Filter the DataFrame\n",
        "domestic_anomalies = anomalies[anomalies['Use'] == 'Comercial/Comercial/Commercial']\n",
        "\n",
        "# Count occurrences of each classification\n",
        "classification_counts = domestic_anomalies['Classification'].value_counts()\n",
        "labels = classification_counts.index\n",
        "sizes = classification_counts.values\n",
        "colors = ['lightskyblue', 'blue', 'cornflowerblue']\n",
        "\n",
        "# Plotting the pie chart\n",
        "plt.figure(figsize=(8, 6))\n",
        "plt.pie(sizes, labels=labels, colors=colors, autopct='%1.1f%%', startangle=140)\n",
        "plt.title('Percentage of Each Anomaly Classification for Commercial Use')\n",
        "plt.axis('equal') \n",
        "plt.show()"
      ]
    },
    {
      "cell_type": "code",
      "execution_count": null,
      "metadata": {},
      "outputs": [],
      "source": [
        "# Filter the DataFrame\n",
        "domestic_anomalies = anomalies[anomalies['Use'] == 'Industrial/Industrial/Industrial']\n",
        "\n",
        "# Count occurrences of each classification\n",
        "classification_counts = domestic_anomalies['Classification'].value_counts()\n",
        "labels = classification_counts.index\n",
        "sizes = classification_counts.values\n",
        "colors = ['lightskyblue', 'blue', 'cornflowerblue']\n",
        "\n",
        "# Plotting the pie chart\n",
        "plt.figure(figsize=(8, 6))\n",
        "plt.pie(sizes, labels=labels, colors=colors, autopct='%1.1f%%', startangle=140)\n",
        "plt.title('Percentage of Each Anomaly Classification for industrial Use')\n",
        "plt.axis('equal')\n",
        "plt.show()"
      ]
    },
    {
      "cell_type": "code",
      "execution_count": null,
      "metadata": {
        "id": "M5QACaGzW9D4"
      },
      "outputs": [],
      "source": [
        "# Download anomalies\n",
        "anomalies.to_csv('anomalies_dataset2_v2.csv', index=False)"
      ]
    },
    {
      "cell_type": "markdown",
      "metadata": {
        "id": "rxWPCJltzR28"
      },
      "source": [
        "## 6. Export improved data\n",
        "\n"
      ]
    },
    {
      "cell_type": "code",
      "execution_count": null,
      "metadata": {
        "id": "0qggrfOLzaCT"
      },
      "outputs": [],
      "source": [
        "dataset2_filtered.to_csv('updated_dataset2_v2.csv', index=False)"
      ]
    }
  ],
  "metadata": {
    "colab": {
      "collapsed_sections": [
        "TJ-0bkCflrbq",
        "eKJ-8KlVl26Q",
        "nIDgl20rl8r1",
        "wqdlfcvbmCBZ"
      ],
      "provenance": []
    },
    "kernelspec": {
      "display_name": "Python 3",
      "name": "python3"
    },
    "language_info": {
      "codemirror_mode": {
        "name": "ipython",
        "version": 3
      },
      "file_extension": ".py",
      "mimetype": "text/x-python",
      "name": "python",
      "nbconvert_exporter": "python",
      "pygments_lexer": "ipython3",
      "version": "3.8.0"
    }
  },
  "nbformat": 4,
  "nbformat_minor": 0
}
